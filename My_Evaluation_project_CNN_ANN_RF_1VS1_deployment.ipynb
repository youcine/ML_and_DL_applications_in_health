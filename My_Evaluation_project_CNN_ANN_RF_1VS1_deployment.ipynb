{
  "nbformat": 4,
  "nbformat_minor": 0,
  "metadata": {
    "colab": {
      "provenance": [],
      "include_colab_link": true
    },
    "kernelspec": {
      "name": "python3",
      "display_name": "Python 3"
    },
    "language_info": {
      "name": "python"
    },
    "accelerator": "GPU",
    "gpuClass": "standard"
  },
  "cells": [
    {
      "cell_type": "markdown",
      "metadata": {
        "id": "view-in-github",
        "colab_type": "text"
      },
      "source": [
        "<a href=\"https://colab.research.google.com/github/youcine/ML_and_DL_applications_in_health/blob/main/My_Evaluation_project_CNN_ANN_RF_1VS1_deployment.ipynb\" target=\"_parent\"><img src=\"https://colab.research.google.com/assets/colab-badge.svg\" alt=\"Open In Colab\"/></a>"
      ]
    },
    {
      "cell_type": "code",
      "execution_count": null,
      "metadata": {
        "colab": {
          "base_uri": "https://localhost:8080/"
        },
        "id": "5_ufcT3ZRmPD",
        "outputId": "a34dcc75-aa6c-4790-b249-447c4643d921"
      },
      "outputs": [
        {
          "output_type": "stream",
          "name": "stdout",
          "text": [
            "Mounted at /content/drive\n"
          ]
        }
      ],
      "source": [
        "from google.colab import drive\n",
        "drive.mount('/content/drive')"
      ]
    },
    {
      "cell_type": "code",
      "source": [
        "!unzip \"/content/drive/MyDrive/Evaluation Groupe 2 ENSB/archive.zip\""
      ],
      "metadata": {
        "id": "XS3DE8ZlbDWf",
        "colab": {
          "base_uri": "https://localhost:8080/"
        },
        "outputId": "39ed0e20-3f3a-472c-e327-1fc17a1260ac"
      },
      "execution_count": null,
      "outputs": [
        {
          "output_type": "stream",
          "name": "stdout",
          "text": [
            "Archive:  /content/drive/MyDrive/Evaluation Groupe 2 ENSB/archive.zip\n",
            "  inflating: Brain_GSE50161.csv      \n"
          ]
        }
      ]
    },
    {
      "cell_type": "code",
      "source": [
        "cd /content/"
      ],
      "metadata": {
        "id": "c4KWc2pHpmPt",
        "colab": {
          "base_uri": "https://localhost:8080/"
        },
        "outputId": "58f18221-089d-4ddf-df8f-e33971eea14b"
      },
      "execution_count": null,
      "outputs": [
        {
          "output_type": "stream",
          "name": "stdout",
          "text": [
            "/content\n"
          ]
        }
      ]
    },
    {
      "cell_type": "code",
      "source": [
        "!ls"
      ],
      "metadata": {
        "id": "jhLJBl9LhxJu"
      },
      "execution_count": null,
      "outputs": []
    },
    {
      "cell_type": "markdown",
      "source": [
        "# **preparing data **"
      ],
      "metadata": {
        "id": "PQTOkuTET7zh"
      }
    },
    {
      "cell_type": "code",
      "source": [
        "import pandas as pd\n",
        "data = pd.read_csv('Brain_GSE50161.csv')"
      ],
      "metadata": {
        "id": "fN_bIYkmlSfl"
      },
      "execution_count": null,
      "outputs": []
    },
    {
      "cell_type": "code",
      "source": [
        "print(data)"
      ],
      "metadata": {
        "id": "qUdFA8pm0a_N",
        "colab": {
          "base_uri": "https://localhost:8080/"
        },
        "outputId": "51312e8f-14ac-49a8-f3e3-e6d829e74593"
      },
      "execution_count": null,
      "outputs": [
        {
          "output_type": "stream",
          "name": "stdout",
          "text": [
            "     samples                   type  1007_s_at   1053_at     117_at    121_at  \\\n",
            "0        834             ependymoma  12.498150  7.604868   6.880934  9.027128   \n",
            "1        835             ependymoma  13.067436  7.998090   7.209076  9.723322   \n",
            "2        836             ependymoma  13.068179  8.573674   8.647684  9.613002   \n",
            "3        837             ependymoma  12.456040  9.098977   6.628784  8.517677   \n",
            "4        838             ependymoma  12.699958  8.800721  11.556188  9.166309   \n",
            "..       ...                    ...        ...       ...        ...       ...   \n",
            "125      959  pilocytic_astrocytoma  12.658228  8.843270   7.672655  9.125912   \n",
            "126      960  pilocytic_astrocytoma  12.812823  8.510550   8.729699  9.104402   \n",
            "127      961  pilocytic_astrocytoma  12.706991  8.795721   7.772359  8.327273   \n",
            "128      962  pilocytic_astrocytoma  12.684593  8.293938   7.228186  8.494428   \n",
            "129      963  pilocytic_astrocytoma  12.397722  8.843524   8.825100  8.551541   \n",
            "\n",
            "     1255_g_at   1294_at   1316_at   1320_at  ...  AFFX-r2-Ec-bioD-3_at  \\\n",
            "0     4.176175  7.224920  6.085942  6.835999  ...              9.979005   \n",
            "1     4.826126  7.539381  6.250962  8.012549  ...             11.924749   \n",
            "2     4.396581  7.813101  6.007746  7.178156  ...             12.154405   \n",
            "3     4.154847  8.361843  6.596064  6.347285  ...             11.969072   \n",
            "4     4.165891  7.923826  6.212754  6.866387  ...             11.411701   \n",
            "..         ...       ...       ...       ...  ...                   ...   \n",
            "125   5.495477  8.603892  7.747514  5.828978  ...             13.170441   \n",
            "126   3.967228  7.719089  7.092496  6.504812  ...             13.040267   \n",
            "127   6.329383  8.550471  6.613332  6.308945  ...             12.825383   \n",
            "128   6.049414  8.214729  7.287758  5.732710  ...             13.116581   \n",
            "129   5.002072  8.547894  6.920827  5.738159  ...             13.117180   \n",
            "\n",
            "     AFFX-r2-Ec-bioD-5_at  AFFX-r2-P1-cre-3_at  AFFX-r2-P1-cre-5_at  \\\n",
            "0                9.926470            12.719785            12.777792   \n",
            "1               11.215930            13.605662            13.401342   \n",
            "2               11.532460            13.764593            13.477800   \n",
            "3               11.288801            13.600828            13.379029   \n",
            "4               11.169317            13.751442            13.803646   \n",
            "..                    ...                  ...                  ...   \n",
            "125             12.676080            14.124837            13.996436   \n",
            "126             12.403316            13.978009            13.812916   \n",
            "127             12.439265            14.328373            14.008693   \n",
            "128             12.657967            14.390346            14.194904   \n",
            "129             12.699932            14.286779            14.088950   \n",
            "\n",
            "     AFFX-ThrX-3_at  AFFX-ThrX-5_at  AFFX-ThrX-M_at  AFFX-TrpnX-3_at  \\\n",
            "0          5.403657        4.870548        4.047380         3.721936   \n",
            "1          5.224555        4.895315        3.786437         3.564481   \n",
            "2          5.303565        5.052184        4.005343         3.595382   \n",
            "3          4.953429        4.708371        3.892318         3.759429   \n",
            "4          4.892677        4.773806        3.796856         3.577544   \n",
            "..              ...             ...             ...              ...   \n",
            "125        4.913579        4.399176        3.878855         3.680103   \n",
            "126        5.189600        4.912618        3.764800         3.664920   \n",
            "127        4.931460        4.712895        3.913637         3.700964   \n",
            "128        4.871092        4.739400        3.782980         3.920363   \n",
            "129        4.932377        4.700205        3.952850         3.678112   \n",
            "\n",
            "     AFFX-TrpnX-5_at  AFFX-TrpnX-M_at  \n",
            "0           4.516434         4.749940  \n",
            "1           4.430891         4.491416  \n",
            "2           4.563494         4.668827  \n",
            "3           4.748381         4.521275  \n",
            "4           4.504385         4.541450  \n",
            "..               ...              ...  \n",
            "125         4.726784         4.564637  \n",
            "126         4.628355         4.761351  \n",
            "127         4.764693         4.834952  \n",
            "128         4.665584         4.613326  \n",
            "129         5.018501         4.704779  \n",
            "\n",
            "[130 rows x 54677 columns]\n"
          ]
        }
      ]
    },
    {
      "cell_type": "code",
      "source": [
        "data.head()"
      ],
      "metadata": {
        "id": "ycUgSiIn0iM6",
        "colab": {
          "base_uri": "https://localhost:8080/",
          "height": 334
        },
        "outputId": "d5300275-b200-4642-de10-034944c9313a"
      },
      "execution_count": null,
      "outputs": [
        {
          "output_type": "execute_result",
          "data": {
            "text/plain": [
              "   samples        type  1007_s_at   1053_at     117_at    121_at  1255_g_at  \\\n",
              "0      834  ependymoma  12.498150  7.604868   6.880934  9.027128   4.176175   \n",
              "1      835  ependymoma  13.067436  7.998090   7.209076  9.723322   4.826126   \n",
              "2      836  ependymoma  13.068179  8.573674   8.647684  9.613002   4.396581   \n",
              "3      837  ependymoma  12.456040  9.098977   6.628784  8.517677   4.154847   \n",
              "4      838  ependymoma  12.699958  8.800721  11.556188  9.166309   4.165891   \n",
              "\n",
              "    1294_at   1316_at   1320_at  ...  AFFX-r2-Ec-bioD-3_at  \\\n",
              "0  7.224920  6.085942  6.835999  ...              9.979005   \n",
              "1  7.539381  6.250962  8.012549  ...             11.924749   \n",
              "2  7.813101  6.007746  7.178156  ...             12.154405   \n",
              "3  8.361843  6.596064  6.347285  ...             11.969072   \n",
              "4  7.923826  6.212754  6.866387  ...             11.411701   \n",
              "\n",
              "   AFFX-r2-Ec-bioD-5_at  AFFX-r2-P1-cre-3_at  AFFX-r2-P1-cre-5_at  \\\n",
              "0              9.926470            12.719785            12.777792   \n",
              "1             11.215930            13.605662            13.401342   \n",
              "2             11.532460            13.764593            13.477800   \n",
              "3             11.288801            13.600828            13.379029   \n",
              "4             11.169317            13.751442            13.803646   \n",
              "\n",
              "   AFFX-ThrX-3_at  AFFX-ThrX-5_at  AFFX-ThrX-M_at  AFFX-TrpnX-3_at  \\\n",
              "0        5.403657        4.870548        4.047380         3.721936   \n",
              "1        5.224555        4.895315        3.786437         3.564481   \n",
              "2        5.303565        5.052184        4.005343         3.595382   \n",
              "3        4.953429        4.708371        3.892318         3.759429   \n",
              "4        4.892677        4.773806        3.796856         3.577544   \n",
              "\n",
              "   AFFX-TrpnX-5_at  AFFX-TrpnX-M_at  \n",
              "0         4.516434         4.749940  \n",
              "1         4.430891         4.491416  \n",
              "2         4.563494         4.668827  \n",
              "3         4.748381         4.521275  \n",
              "4         4.504385         4.541450  \n",
              "\n",
              "[5 rows x 54677 columns]"
            ],
            "text/html": [
              "\n",
              "  <div id=\"df-44a19f3c-cfbb-4187-86ab-471a43997db3\">\n",
              "    <div class=\"colab-df-container\">\n",
              "      <div>\n",
              "<style scoped>\n",
              "    .dataframe tbody tr th:only-of-type {\n",
              "        vertical-align: middle;\n",
              "    }\n",
              "\n",
              "    .dataframe tbody tr th {\n",
              "        vertical-align: top;\n",
              "    }\n",
              "\n",
              "    .dataframe thead th {\n",
              "        text-align: right;\n",
              "    }\n",
              "</style>\n",
              "<table border=\"1\" class=\"dataframe\">\n",
              "  <thead>\n",
              "    <tr style=\"text-align: right;\">\n",
              "      <th></th>\n",
              "      <th>samples</th>\n",
              "      <th>type</th>\n",
              "      <th>1007_s_at</th>\n",
              "      <th>1053_at</th>\n",
              "      <th>117_at</th>\n",
              "      <th>121_at</th>\n",
              "      <th>1255_g_at</th>\n",
              "      <th>1294_at</th>\n",
              "      <th>1316_at</th>\n",
              "      <th>1320_at</th>\n",
              "      <th>...</th>\n",
              "      <th>AFFX-r2-Ec-bioD-3_at</th>\n",
              "      <th>AFFX-r2-Ec-bioD-5_at</th>\n",
              "      <th>AFFX-r2-P1-cre-3_at</th>\n",
              "      <th>AFFX-r2-P1-cre-5_at</th>\n",
              "      <th>AFFX-ThrX-3_at</th>\n",
              "      <th>AFFX-ThrX-5_at</th>\n",
              "      <th>AFFX-ThrX-M_at</th>\n",
              "      <th>AFFX-TrpnX-3_at</th>\n",
              "      <th>AFFX-TrpnX-5_at</th>\n",
              "      <th>AFFX-TrpnX-M_at</th>\n",
              "    </tr>\n",
              "  </thead>\n",
              "  <tbody>\n",
              "    <tr>\n",
              "      <th>0</th>\n",
              "      <td>834</td>\n",
              "      <td>ependymoma</td>\n",
              "      <td>12.498150</td>\n",
              "      <td>7.604868</td>\n",
              "      <td>6.880934</td>\n",
              "      <td>9.027128</td>\n",
              "      <td>4.176175</td>\n",
              "      <td>7.224920</td>\n",
              "      <td>6.085942</td>\n",
              "      <td>6.835999</td>\n",
              "      <td>...</td>\n",
              "      <td>9.979005</td>\n",
              "      <td>9.926470</td>\n",
              "      <td>12.719785</td>\n",
              "      <td>12.777792</td>\n",
              "      <td>5.403657</td>\n",
              "      <td>4.870548</td>\n",
              "      <td>4.047380</td>\n",
              "      <td>3.721936</td>\n",
              "      <td>4.516434</td>\n",
              "      <td>4.749940</td>\n",
              "    </tr>\n",
              "    <tr>\n",
              "      <th>1</th>\n",
              "      <td>835</td>\n",
              "      <td>ependymoma</td>\n",
              "      <td>13.067436</td>\n",
              "      <td>7.998090</td>\n",
              "      <td>7.209076</td>\n",
              "      <td>9.723322</td>\n",
              "      <td>4.826126</td>\n",
              "      <td>7.539381</td>\n",
              "      <td>6.250962</td>\n",
              "      <td>8.012549</td>\n",
              "      <td>...</td>\n",
              "      <td>11.924749</td>\n",
              "      <td>11.215930</td>\n",
              "      <td>13.605662</td>\n",
              "      <td>13.401342</td>\n",
              "      <td>5.224555</td>\n",
              "      <td>4.895315</td>\n",
              "      <td>3.786437</td>\n",
              "      <td>3.564481</td>\n",
              "      <td>4.430891</td>\n",
              "      <td>4.491416</td>\n",
              "    </tr>\n",
              "    <tr>\n",
              "      <th>2</th>\n",
              "      <td>836</td>\n",
              "      <td>ependymoma</td>\n",
              "      <td>13.068179</td>\n",
              "      <td>8.573674</td>\n",
              "      <td>8.647684</td>\n",
              "      <td>9.613002</td>\n",
              "      <td>4.396581</td>\n",
              "      <td>7.813101</td>\n",
              "      <td>6.007746</td>\n",
              "      <td>7.178156</td>\n",
              "      <td>...</td>\n",
              "      <td>12.154405</td>\n",
              "      <td>11.532460</td>\n",
              "      <td>13.764593</td>\n",
              "      <td>13.477800</td>\n",
              "      <td>5.303565</td>\n",
              "      <td>5.052184</td>\n",
              "      <td>4.005343</td>\n",
              "      <td>3.595382</td>\n",
              "      <td>4.563494</td>\n",
              "      <td>4.668827</td>\n",
              "    </tr>\n",
              "    <tr>\n",
              "      <th>3</th>\n",
              "      <td>837</td>\n",
              "      <td>ependymoma</td>\n",
              "      <td>12.456040</td>\n",
              "      <td>9.098977</td>\n",
              "      <td>6.628784</td>\n",
              "      <td>8.517677</td>\n",
              "      <td>4.154847</td>\n",
              "      <td>8.361843</td>\n",
              "      <td>6.596064</td>\n",
              "      <td>6.347285</td>\n",
              "      <td>...</td>\n",
              "      <td>11.969072</td>\n",
              "      <td>11.288801</td>\n",
              "      <td>13.600828</td>\n",
              "      <td>13.379029</td>\n",
              "      <td>4.953429</td>\n",
              "      <td>4.708371</td>\n",
              "      <td>3.892318</td>\n",
              "      <td>3.759429</td>\n",
              "      <td>4.748381</td>\n",
              "      <td>4.521275</td>\n",
              "    </tr>\n",
              "    <tr>\n",
              "      <th>4</th>\n",
              "      <td>838</td>\n",
              "      <td>ependymoma</td>\n",
              "      <td>12.699958</td>\n",
              "      <td>8.800721</td>\n",
              "      <td>11.556188</td>\n",
              "      <td>9.166309</td>\n",
              "      <td>4.165891</td>\n",
              "      <td>7.923826</td>\n",
              "      <td>6.212754</td>\n",
              "      <td>6.866387</td>\n",
              "      <td>...</td>\n",
              "      <td>11.411701</td>\n",
              "      <td>11.169317</td>\n",
              "      <td>13.751442</td>\n",
              "      <td>13.803646</td>\n",
              "      <td>4.892677</td>\n",
              "      <td>4.773806</td>\n",
              "      <td>3.796856</td>\n",
              "      <td>3.577544</td>\n",
              "      <td>4.504385</td>\n",
              "      <td>4.541450</td>\n",
              "    </tr>\n",
              "  </tbody>\n",
              "</table>\n",
              "<p>5 rows × 54677 columns</p>\n",
              "</div>\n",
              "      <button class=\"colab-df-convert\" onclick=\"convertToInteractive('df-44a19f3c-cfbb-4187-86ab-471a43997db3')\"\n",
              "              title=\"Convert this dataframe to an interactive table.\"\n",
              "              style=\"display:none;\">\n",
              "        \n",
              "  <svg xmlns=\"http://www.w3.org/2000/svg\" height=\"24px\"viewBox=\"0 0 24 24\"\n",
              "       width=\"24px\">\n",
              "    <path d=\"M0 0h24v24H0V0z\" fill=\"none\"/>\n",
              "    <path d=\"M18.56 5.44l.94 2.06.94-2.06 2.06-.94-2.06-.94-.94-2.06-.94 2.06-2.06.94zm-11 1L8.5 8.5l.94-2.06 2.06-.94-2.06-.94L8.5 2.5l-.94 2.06-2.06.94zm10 10l.94 2.06.94-2.06 2.06-.94-2.06-.94-.94-2.06-.94 2.06-2.06.94z\"/><path d=\"M17.41 7.96l-1.37-1.37c-.4-.4-.92-.59-1.43-.59-.52 0-1.04.2-1.43.59L10.3 9.45l-7.72 7.72c-.78.78-.78 2.05 0 2.83L4 21.41c.39.39.9.59 1.41.59.51 0 1.02-.2 1.41-.59l7.78-7.78 2.81-2.81c.8-.78.8-2.07 0-2.86zM5.41 20L4 18.59l7.72-7.72 1.47 1.35L5.41 20z\"/>\n",
              "  </svg>\n",
              "      </button>\n",
              "      \n",
              "  <style>\n",
              "    .colab-df-container {\n",
              "      display:flex;\n",
              "      flex-wrap:wrap;\n",
              "      gap: 12px;\n",
              "    }\n",
              "\n",
              "    .colab-df-convert {\n",
              "      background-color: #E8F0FE;\n",
              "      border: none;\n",
              "      border-radius: 50%;\n",
              "      cursor: pointer;\n",
              "      display: none;\n",
              "      fill: #1967D2;\n",
              "      height: 32px;\n",
              "      padding: 0 0 0 0;\n",
              "      width: 32px;\n",
              "    }\n",
              "\n",
              "    .colab-df-convert:hover {\n",
              "      background-color: #E2EBFA;\n",
              "      box-shadow: 0px 1px 2px rgba(60, 64, 67, 0.3), 0px 1px 3px 1px rgba(60, 64, 67, 0.15);\n",
              "      fill: #174EA6;\n",
              "    }\n",
              "\n",
              "    [theme=dark] .colab-df-convert {\n",
              "      background-color: #3B4455;\n",
              "      fill: #D2E3FC;\n",
              "    }\n",
              "\n",
              "    [theme=dark] .colab-df-convert:hover {\n",
              "      background-color: #434B5C;\n",
              "      box-shadow: 0px 1px 3px 1px rgba(0, 0, 0, 0.15);\n",
              "      filter: drop-shadow(0px 1px 2px rgba(0, 0, 0, 0.3));\n",
              "      fill: #FFFFFF;\n",
              "    }\n",
              "  </style>\n",
              "\n",
              "      <script>\n",
              "        const buttonEl =\n",
              "          document.querySelector('#df-44a19f3c-cfbb-4187-86ab-471a43997db3 button.colab-df-convert');\n",
              "        buttonEl.style.display =\n",
              "          google.colab.kernel.accessAllowed ? 'block' : 'none';\n",
              "\n",
              "        async function convertToInteractive(key) {\n",
              "          const element = document.querySelector('#df-44a19f3c-cfbb-4187-86ab-471a43997db3');\n",
              "          const dataTable =\n",
              "            await google.colab.kernel.invokeFunction('convertToInteractive',\n",
              "                                                     [key], {});\n",
              "          if (!dataTable) return;\n",
              "\n",
              "          const docLinkHtml = 'Like what you see? Visit the ' +\n",
              "            '<a target=\"_blank\" href=https://colab.research.google.com/notebooks/data_table.ipynb>data table notebook</a>'\n",
              "            + ' to learn more about interactive tables.';\n",
              "          element.innerHTML = '';\n",
              "          dataTable['output_type'] = 'display_data';\n",
              "          await google.colab.output.renderOutput(dataTable, element);\n",
              "          const docLink = document.createElement('div');\n",
              "          docLink.innerHTML = docLinkHtml;\n",
              "          element.appendChild(docLink);\n",
              "        }\n",
              "      </script>\n",
              "    </div>\n",
              "  </div>\n",
              "  "
            ]
          },
          "metadata": {},
          "execution_count": 8
        }
      ]
    },
    {
      "cell_type": "code",
      "source": [
        "labels = pd.read_csv('Brain_GSE50161.csv' , usecols=[1, 2])"
      ],
      "metadata": {
        "id": "f5n33VOTKe_7"
      },
      "execution_count": null,
      "outputs": []
    },
    {
      "cell_type": "code",
      "source": [
        "labels.head()\n"
      ],
      "metadata": {
        "id": "bOBOmcKjH-qZ",
        "colab": {
          "base_uri": "https://localhost:8080/",
          "height": 206
        },
        "outputId": "0de40b5b-3e16-4309-b232-a3b816857764"
      },
      "execution_count": null,
      "outputs": [
        {
          "output_type": "execute_result",
          "data": {
            "text/plain": [
              "         type  1007_s_at\n",
              "0  ependymoma  12.498150\n",
              "1  ependymoma  13.067436\n",
              "2  ependymoma  13.068179\n",
              "3  ependymoma  12.456040\n",
              "4  ependymoma  12.699958"
            ],
            "text/html": [
              "\n",
              "  <div id=\"df-ca388d36-91a2-4d96-926e-4cf0e829e1ae\">\n",
              "    <div class=\"colab-df-container\">\n",
              "      <div>\n",
              "<style scoped>\n",
              "    .dataframe tbody tr th:only-of-type {\n",
              "        vertical-align: middle;\n",
              "    }\n",
              "\n",
              "    .dataframe tbody tr th {\n",
              "        vertical-align: top;\n",
              "    }\n",
              "\n",
              "    .dataframe thead th {\n",
              "        text-align: right;\n",
              "    }\n",
              "</style>\n",
              "<table border=\"1\" class=\"dataframe\">\n",
              "  <thead>\n",
              "    <tr style=\"text-align: right;\">\n",
              "      <th></th>\n",
              "      <th>type</th>\n",
              "      <th>1007_s_at</th>\n",
              "    </tr>\n",
              "  </thead>\n",
              "  <tbody>\n",
              "    <tr>\n",
              "      <th>0</th>\n",
              "      <td>ependymoma</td>\n",
              "      <td>12.498150</td>\n",
              "    </tr>\n",
              "    <tr>\n",
              "      <th>1</th>\n",
              "      <td>ependymoma</td>\n",
              "      <td>13.067436</td>\n",
              "    </tr>\n",
              "    <tr>\n",
              "      <th>2</th>\n",
              "      <td>ependymoma</td>\n",
              "      <td>13.068179</td>\n",
              "    </tr>\n",
              "    <tr>\n",
              "      <th>3</th>\n",
              "      <td>ependymoma</td>\n",
              "      <td>12.456040</td>\n",
              "    </tr>\n",
              "    <tr>\n",
              "      <th>4</th>\n",
              "      <td>ependymoma</td>\n",
              "      <td>12.699958</td>\n",
              "    </tr>\n",
              "  </tbody>\n",
              "</table>\n",
              "</div>\n",
              "      <button class=\"colab-df-convert\" onclick=\"convertToInteractive('df-ca388d36-91a2-4d96-926e-4cf0e829e1ae')\"\n",
              "              title=\"Convert this dataframe to an interactive table.\"\n",
              "              style=\"display:none;\">\n",
              "        \n",
              "  <svg xmlns=\"http://www.w3.org/2000/svg\" height=\"24px\"viewBox=\"0 0 24 24\"\n",
              "       width=\"24px\">\n",
              "    <path d=\"M0 0h24v24H0V0z\" fill=\"none\"/>\n",
              "    <path d=\"M18.56 5.44l.94 2.06.94-2.06 2.06-.94-2.06-.94-.94-2.06-.94 2.06-2.06.94zm-11 1L8.5 8.5l.94-2.06 2.06-.94-2.06-.94L8.5 2.5l-.94 2.06-2.06.94zm10 10l.94 2.06.94-2.06 2.06-.94-2.06-.94-.94-2.06-.94 2.06-2.06.94z\"/><path d=\"M17.41 7.96l-1.37-1.37c-.4-.4-.92-.59-1.43-.59-.52 0-1.04.2-1.43.59L10.3 9.45l-7.72 7.72c-.78.78-.78 2.05 0 2.83L4 21.41c.39.39.9.59 1.41.59.51 0 1.02-.2 1.41-.59l7.78-7.78 2.81-2.81c.8-.78.8-2.07 0-2.86zM5.41 20L4 18.59l7.72-7.72 1.47 1.35L5.41 20z\"/>\n",
              "  </svg>\n",
              "      </button>\n",
              "      \n",
              "  <style>\n",
              "    .colab-df-container {\n",
              "      display:flex;\n",
              "      flex-wrap:wrap;\n",
              "      gap: 12px;\n",
              "    }\n",
              "\n",
              "    .colab-df-convert {\n",
              "      background-color: #E8F0FE;\n",
              "      border: none;\n",
              "      border-radius: 50%;\n",
              "      cursor: pointer;\n",
              "      display: none;\n",
              "      fill: #1967D2;\n",
              "      height: 32px;\n",
              "      padding: 0 0 0 0;\n",
              "      width: 32px;\n",
              "    }\n",
              "\n",
              "    .colab-df-convert:hover {\n",
              "      background-color: #E2EBFA;\n",
              "      box-shadow: 0px 1px 2px rgba(60, 64, 67, 0.3), 0px 1px 3px 1px rgba(60, 64, 67, 0.15);\n",
              "      fill: #174EA6;\n",
              "    }\n",
              "\n",
              "    [theme=dark] .colab-df-convert {\n",
              "      background-color: #3B4455;\n",
              "      fill: #D2E3FC;\n",
              "    }\n",
              "\n",
              "    [theme=dark] .colab-df-convert:hover {\n",
              "      background-color: #434B5C;\n",
              "      box-shadow: 0px 1px 3px 1px rgba(0, 0, 0, 0.15);\n",
              "      filter: drop-shadow(0px 1px 2px rgba(0, 0, 0, 0.3));\n",
              "      fill: #FFFFFF;\n",
              "    }\n",
              "  </style>\n",
              "\n",
              "      <script>\n",
              "        const buttonEl =\n",
              "          document.querySelector('#df-ca388d36-91a2-4d96-926e-4cf0e829e1ae button.colab-df-convert');\n",
              "        buttonEl.style.display =\n",
              "          google.colab.kernel.accessAllowed ? 'block' : 'none';\n",
              "\n",
              "        async function convertToInteractive(key) {\n",
              "          const element = document.querySelector('#df-ca388d36-91a2-4d96-926e-4cf0e829e1ae');\n",
              "          const dataTable =\n",
              "            await google.colab.kernel.invokeFunction('convertToInteractive',\n",
              "                                                     [key], {});\n",
              "          if (!dataTable) return;\n",
              "\n",
              "          const docLinkHtml = 'Like what you see? Visit the ' +\n",
              "            '<a target=\"_blank\" href=https://colab.research.google.com/notebooks/data_table.ipynb>data table notebook</a>'\n",
              "            + ' to learn more about interactive tables.';\n",
              "          element.innerHTML = '';\n",
              "          dataTable['output_type'] = 'display_data';\n",
              "          await google.colab.output.renderOutput(dataTable, element);\n",
              "          const docLink = document.createElement('div');\n",
              "          docLink.innerHTML = docLinkHtml;\n",
              "          element.appendChild(docLink);\n",
              "        }\n",
              "      </script>\n",
              "    </div>\n",
              "  </div>\n",
              "  "
            ]
          },
          "metadata": {},
          "execution_count": 10
        }
      ]
    },
    {
      "cell_type": "code",
      "source": [
        "x = data.iloc [:,3:]"
      ],
      "metadata": {
        "id": "LPWOZb6a4dC5"
      },
      "execution_count": null,
      "outputs": []
    },
    {
      "cell_type": "code",
      "source": [
        "print (x)"
      ],
      "metadata": {
        "id": "BKkaVBLj4i_N",
        "colab": {
          "base_uri": "https://localhost:8080/"
        },
        "outputId": "acaa14a4-490e-460d-dc21-0d105a613161"
      },
      "execution_count": null,
      "outputs": [
        {
          "output_type": "stream",
          "name": "stdout",
          "text": [
            "      1053_at     117_at    121_at  1255_g_at   1294_at   1316_at   1320_at  \\\n",
            "0    7.604868   6.880934  9.027128   4.176175  7.224920  6.085942  6.835999   \n",
            "1    7.998090   7.209076  9.723322   4.826126  7.539381  6.250962  8.012549   \n",
            "2    8.573674   8.647684  9.613002   4.396581  7.813101  6.007746  7.178156   \n",
            "3    9.098977   6.628784  8.517677   4.154847  8.361843  6.596064  6.347285   \n",
            "4    8.800721  11.556188  9.166309   4.165891  7.923826  6.212754  6.866387   \n",
            "..        ...        ...       ...        ...       ...       ...       ...   \n",
            "125  8.843270   7.672655  9.125912   5.495477  8.603892  7.747514  5.828978   \n",
            "126  8.510550   8.729699  9.104402   3.967228  7.719089  7.092496  6.504812   \n",
            "127  8.795721   7.772359  8.327273   6.329383  8.550471  6.613332  6.308945   \n",
            "128  8.293938   7.228186  8.494428   6.049414  8.214729  7.287758  5.732710   \n",
            "129  8.843524   8.825100  8.551541   5.002072  8.547894  6.920827  5.738159   \n",
            "\n",
            "     1405_i_at   1431_at   1438_at  ...  AFFX-r2-Ec-bioD-3_at  \\\n",
            "0     5.898355  5.513410  7.541986  ...              9.979005   \n",
            "1     5.453147  6.173106  8.317030  ...             11.924749   \n",
            "2     8.400266  6.323471  7.661874  ...             12.154405   \n",
            "3     4.900380  6.008684  7.663790  ...             11.969072   \n",
            "4     5.405628  5.279579  9.521956  ...             11.411701   \n",
            "..         ...       ...       ...  ...                   ...   \n",
            "125   6.926720  4.967369  7.014209  ...             13.170441   \n",
            "126   6.157163  5.082896  7.981177  ...             13.040267   \n",
            "127   7.494852  4.919414  6.638493  ...             12.825383   \n",
            "128   6.296021  5.140635  7.225376  ...             13.116581   \n",
            "129   6.383309  5.229208  6.839369  ...             13.117180   \n",
            "\n",
            "     AFFX-r2-Ec-bioD-5_at  AFFX-r2-P1-cre-3_at  AFFX-r2-P1-cre-5_at  \\\n",
            "0                9.926470            12.719785            12.777792   \n",
            "1               11.215930            13.605662            13.401342   \n",
            "2               11.532460            13.764593            13.477800   \n",
            "3               11.288801            13.600828            13.379029   \n",
            "4               11.169317            13.751442            13.803646   \n",
            "..                    ...                  ...                  ...   \n",
            "125             12.676080            14.124837            13.996436   \n",
            "126             12.403316            13.978009            13.812916   \n",
            "127             12.439265            14.328373            14.008693   \n",
            "128             12.657967            14.390346            14.194904   \n",
            "129             12.699932            14.286779            14.088950   \n",
            "\n",
            "     AFFX-ThrX-3_at  AFFX-ThrX-5_at  AFFX-ThrX-M_at  AFFX-TrpnX-3_at  \\\n",
            "0          5.403657        4.870548        4.047380         3.721936   \n",
            "1          5.224555        4.895315        3.786437         3.564481   \n",
            "2          5.303565        5.052184        4.005343         3.595382   \n",
            "3          4.953429        4.708371        3.892318         3.759429   \n",
            "4          4.892677        4.773806        3.796856         3.577544   \n",
            "..              ...             ...             ...              ...   \n",
            "125        4.913579        4.399176        3.878855         3.680103   \n",
            "126        5.189600        4.912618        3.764800         3.664920   \n",
            "127        4.931460        4.712895        3.913637         3.700964   \n",
            "128        4.871092        4.739400        3.782980         3.920363   \n",
            "129        4.932377        4.700205        3.952850         3.678112   \n",
            "\n",
            "     AFFX-TrpnX-5_at  AFFX-TrpnX-M_at  \n",
            "0           4.516434         4.749940  \n",
            "1           4.430891         4.491416  \n",
            "2           4.563494         4.668827  \n",
            "3           4.748381         4.521275  \n",
            "4           4.504385         4.541450  \n",
            "..               ...              ...  \n",
            "125         4.726784         4.564637  \n",
            "126         4.628355         4.761351  \n",
            "127         4.764693         4.834952  \n",
            "128         4.665584         4.613326  \n",
            "129         5.018501         4.704779  \n",
            "\n",
            "[130 rows x 54674 columns]\n"
          ]
        }
      ]
    },
    {
      "cell_type": "code",
      "source": [
        "y = labels.iloc[:,0]"
      ],
      "metadata": {
        "id": "iqilKVCp40xf"
      },
      "execution_count": null,
      "outputs": []
    },
    {
      "cell_type": "code",
      "source": [
        "print (y)"
      ],
      "metadata": {
        "id": "aCubz7O_8c5z",
        "colab": {
          "base_uri": "https://localhost:8080/"
        },
        "outputId": "f85c0ab8-caea-42c0-d2bb-4bb283aee0fb"
      },
      "execution_count": null,
      "outputs": [
        {
          "output_type": "stream",
          "name": "stdout",
          "text": [
            "0                 ependymoma\n",
            "1                 ependymoma\n",
            "2                 ependymoma\n",
            "3                 ependymoma\n",
            "4                 ependymoma\n",
            "               ...          \n",
            "125    pilocytic_astrocytoma\n",
            "126    pilocytic_astrocytoma\n",
            "127    pilocytic_astrocytoma\n",
            "128    pilocytic_astrocytoma\n",
            "129    pilocytic_astrocytoma\n",
            "Name: type, Length: 130, dtype: object\n"
          ]
        }
      ]
    },
    {
      "cell_type": "markdown",
      "source": [
        "## **2/ normalisation **"
      ],
      "metadata": {
        "id": "13lsLLR51wT5"
      }
    },
    {
      "cell_type": "code",
      "source": [
        "\n",
        "from sklearn.preprocessing import StandardScaler\n",
        "scaler = StandardScaler()\n",
        "x = scaler.fit_transform(x)"
      ],
      "metadata": {
        "id": "SO6To5rD14-y"
      },
      "execution_count": null,
      "outputs": []
    },
    {
      "cell_type": "code",
      "source": [
        "from keras.utils.np_utils import to_categorical\n",
        "from sklearn.preprocessing import LabelEncoder\n",
        "categorical_labels = to_categorical(5, num_classes=None)\n",
        "encoder = LabelEncoder()\n",
        "encoder.fit(y)\n",
        "y = encoder.transform(y)\n",
        "y =to_categorical(y)"
      ],
      "metadata": {
        "id": "MjEgMypFY1-q"
      },
      "execution_count": null,
      "outputs": []
    },
    {
      "cell_type": "markdown",
      "source": [
        "# **3/ technique 1 : split and train **"
      ],
      "metadata": {
        "id": "CmlaPkZV3GeY"
      }
    },
    {
      "cell_type": "code",
      "source": [
        "from sklearn.model_selection import train_test_split\n",
        "X_train, X_test, y_train, y_test = train_test_split(x, y, test_size=0.2, random_state=88,shuffle=True)"
      ],
      "metadata": {
        "id": "fWGmzXL84Hpp"
      },
      "execution_count": null,
      "outputs": []
    },
    {
      "cell_type": "code",
      "source": [
        "print(X_train.shape)"
      ],
      "metadata": {
        "colab": {
          "base_uri": "https://localhost:8080/"
        },
        "id": "TbjUU75pODt8",
        "outputId": "232ad83f-660c-4b9c-9a5e-97b78f33c8db"
      },
      "execution_count": null,
      "outputs": [
        {
          "output_type": "stream",
          "name": "stdout",
          "text": [
            "(104, 54674)\n"
          ]
        }
      ]
    },
    {
      "cell_type": "code",
      "source": [
        "print(y_train.shape)\n"
      ],
      "metadata": {
        "colab": {
          "base_uri": "https://localhost:8080/"
        },
        "id": "A-bXKXKFOGDe",
        "outputId": "e8543898-4063-429a-dcb2-312f403de714"
      },
      "execution_count": null,
      "outputs": [
        {
          "output_type": "stream",
          "name": "stdout",
          "text": [
            "(104,)\n"
          ]
        }
      ]
    },
    {
      "cell_type": "markdown",
      "source": [
        "# **CNN**"
      ],
      "metadata": {
        "id": "g8hE_YrZZsIn"
      }
    },
    {
      "cell_type": "code",
      "source": [
        "import tensorflow as tf\n",
        "from tensorflow import *\n",
        "\n",
        "model = tf.keras.Sequential()\n",
        "model.add(tf.keras.layers.Input(54674,))## rendre la forme de X en 2D dimension\n",
        "model.add(tf.keras.layers.Reshape((54674,1)))\n",
        "model.add(tf.keras.layers.Conv1D(1,kernel_size=5,activation='relu')) ## Layer Conv1D pour faire un apprentissage de caractéristique avec 32 filter et un kernel de taille 100\n",
        "model.add(tf.keras.layers.Dropout(0.5))\n",
        "model.add(tf.keras.layers.MaxPool1D(pool_size=2)) ## un sous echantillage avec MaxPooling de taille 5 | dans le cas de Global Pooling la couche à utiliser est GlobalMaxPool1D() qui prend aucun paramétre\n",
        "model.add(tf.keras.layers.Dropout(0.5))\n",
        "model.add(tf.keras.layers.Flatten()) ## rendre la forme en 1D dimension\n",
        "model.add(tf.keras.layers.Dense(5,activation='softmax'))\n",
        "model.compile(loss='categorical_crossentropy',optimizer='ADAM',metrics=['accuracy'])\n",
        "model.summary()\n",
        "model.fit(X_train,y_train,epochs=100)\n",
        "model.evaluate(X_test,y_test)"
      ],
      "metadata": {
        "colab": {
          "base_uri": "https://localhost:8080/"
        },
        "id": "-c0FJmWqRARc",
        "outputId": "73a2d99b-ac7d-4f37-85f1-035b56a4da36"
      },
      "execution_count": null,
      "outputs": [
        {
          "output_type": "stream",
          "name": "stdout",
          "text": [
            "Model: \"sequential_2\"\n",
            "_________________________________________________________________\n",
            " Layer (type)                Output Shape              Param #   \n",
            "=================================================================\n",
            " reshape_2 (Reshape)         (None, 54674, 1)          0         \n",
            "                                                                 \n",
            " conv1d_2 (Conv1D)           (None, 54670, 1)          6         \n",
            "                                                                 \n",
            " dropout_2 (Dropout)         (None, 54670, 1)          0         \n",
            "                                                                 \n",
            " max_pooling1d_2 (MaxPooling  (None, 27335, 1)         0         \n",
            " 1D)                                                             \n",
            "                                                                 \n",
            " dropout_3 (Dropout)         (None, 27335, 1)          0         \n",
            "                                                                 \n",
            " flatten_2 (Flatten)         (None, 27335)             0         \n",
            "                                                                 \n",
            " dense_2 (Dense)             (None, 5)                 136680    \n",
            "                                                                 \n",
            "=================================================================\n",
            "Total params: 136,686\n",
            "Trainable params: 136,686\n",
            "Non-trainable params: 0\n",
            "_________________________________________________________________\n",
            "Epoch 1/100\n",
            "4/4 [==============================] - 1s 11ms/step - loss: 4.7341 - accuracy: 0.3365\n",
            "Epoch 2/100\n",
            "4/4 [==============================] - 0s 11ms/step - loss: 2.0335 - accuracy: 0.5962\n",
            "Epoch 3/100\n",
            "4/4 [==============================] - 0s 10ms/step - loss: 0.9268 - accuracy: 0.8173\n",
            "Epoch 4/100\n",
            "4/4 [==============================] - 0s 9ms/step - loss: 0.4626 - accuracy: 0.9231\n",
            "Epoch 5/100\n",
            "4/4 [==============================] - 0s 9ms/step - loss: 0.1691 - accuracy: 0.9712\n",
            "Epoch 6/100\n",
            "4/4 [==============================] - 0s 9ms/step - loss: 0.1679 - accuracy: 0.9519\n",
            "Epoch 7/100\n",
            "4/4 [==============================] - 0s 10ms/step - loss: 0.0015 - accuracy: 1.0000\n",
            "Epoch 8/100\n",
            "4/4 [==============================] - 0s 10ms/step - loss: 0.0157 - accuracy: 0.9904\n",
            "Epoch 9/100\n",
            "4/4 [==============================] - 0s 10ms/step - loss: 0.0415 - accuracy: 0.9808\n",
            "Epoch 10/100\n",
            "4/4 [==============================] - 0s 11ms/step - loss: 0.0125 - accuracy: 0.9904\n",
            "Epoch 11/100\n",
            "4/4 [==============================] - 0s 11ms/step - loss: 5.6759e-04 - accuracy: 1.0000\n",
            "Epoch 12/100\n",
            "4/4 [==============================] - 0s 10ms/step - loss: 0.0015 - accuracy: 1.0000\n",
            "Epoch 13/100\n",
            "4/4 [==============================] - 0s 9ms/step - loss: 2.4768e-04 - accuracy: 1.0000\n",
            "Epoch 14/100\n",
            "4/4 [==============================] - 0s 9ms/step - loss: 9.3599e-04 - accuracy: 1.0000\n",
            "Epoch 15/100\n",
            "4/4 [==============================] - 0s 9ms/step - loss: 6.9309e-05 - accuracy: 1.0000\n",
            "Epoch 16/100\n",
            "4/4 [==============================] - 0s 10ms/step - loss: 1.9520e-04 - accuracy: 1.0000\n",
            "Epoch 17/100\n",
            "4/4 [==============================] - 0s 10ms/step - loss: 3.6387e-04 - accuracy: 1.0000\n",
            "Epoch 18/100\n",
            "4/4 [==============================] - 0s 10ms/step - loss: 2.2162e-04 - accuracy: 1.0000\n",
            "Epoch 19/100\n",
            "4/4 [==============================] - 0s 9ms/step - loss: 1.9401e-04 - accuracy: 1.0000\n",
            "Epoch 20/100\n",
            "4/4 [==============================] - 0s 10ms/step - loss: 0.0013 - accuracy: 1.0000\n",
            "Epoch 21/100\n",
            "4/4 [==============================] - 0s 11ms/step - loss: 3.3374e-04 - accuracy: 1.0000\n",
            "Epoch 22/100\n",
            "4/4 [==============================] - 0s 9ms/step - loss: 6.1520e-04 - accuracy: 1.0000\n",
            "Epoch 23/100\n",
            "4/4 [==============================] - 0s 9ms/step - loss: 2.5299e-05 - accuracy: 1.0000\n",
            "Epoch 24/100\n",
            "4/4 [==============================] - 0s 10ms/step - loss: 0.0018 - accuracy: 1.0000\n",
            "Epoch 25/100\n",
            "4/4 [==============================] - 0s 9ms/step - loss: 3.2338e-04 - accuracy: 1.0000\n",
            "Epoch 26/100\n",
            "4/4 [==============================] - 0s 9ms/step - loss: 1.1297e-04 - accuracy: 1.0000\n",
            "Epoch 27/100\n",
            "4/4 [==============================] - 0s 9ms/step - loss: 3.1307e-05 - accuracy: 1.0000\n",
            "Epoch 28/100\n",
            "4/4 [==============================] - 0s 9ms/step - loss: 1.7787e-04 - accuracy: 1.0000\n",
            "Epoch 29/100\n",
            "4/4 [==============================] - 0s 9ms/step - loss: 1.5132e-05 - accuracy: 1.0000\n",
            "Epoch 30/100\n",
            "4/4 [==============================] - 0s 9ms/step - loss: 1.0410e-05 - accuracy: 1.0000\n",
            "Epoch 31/100\n",
            "4/4 [==============================] - 0s 10ms/step - loss: 3.8609e-05 - accuracy: 1.0000\n",
            "Epoch 32/100\n",
            "4/4 [==============================] - 0s 9ms/step - loss: 4.0656e-05 - accuracy: 1.0000\n",
            "Epoch 33/100\n",
            "4/4 [==============================] - 0s 9ms/step - loss: 1.5937e-04 - accuracy: 1.0000\n",
            "Epoch 34/100\n",
            "4/4 [==============================] - 0s 10ms/step - loss: 3.7849e-05 - accuracy: 1.0000\n",
            "Epoch 35/100\n",
            "4/4 [==============================] - 0s 9ms/step - loss: 1.1527e-04 - accuracy: 1.0000\n",
            "Epoch 36/100\n",
            "4/4 [==============================] - 0s 9ms/step - loss: 3.3782e-04 - accuracy: 1.0000\n",
            "Epoch 37/100\n",
            "4/4 [==============================] - 0s 10ms/step - loss: 0.0011 - accuracy: 1.0000\n",
            "Epoch 38/100\n",
            "4/4 [==============================] - 0s 9ms/step - loss: 9.5498e-05 - accuracy: 1.0000\n",
            "Epoch 39/100\n",
            "4/4 [==============================] - 0s 9ms/step - loss: 8.5204e-05 - accuracy: 1.0000\n",
            "Epoch 40/100\n",
            "4/4 [==============================] - 0s 9ms/step - loss: 5.8906e-05 - accuracy: 1.0000\n",
            "Epoch 41/100\n",
            "4/4 [==============================] - 0s 9ms/step - loss: 1.3577e-05 - accuracy: 1.0000\n",
            "Epoch 42/100\n",
            "4/4 [==============================] - 0s 10ms/step - loss: 6.7390e-05 - accuracy: 1.0000\n",
            "Epoch 43/100\n",
            "4/4 [==============================] - 0s 9ms/step - loss: 2.7721e-04 - accuracy: 1.0000\n",
            "Epoch 44/100\n",
            "4/4 [==============================] - 0s 12ms/step - loss: 7.7980e-05 - accuracy: 1.0000\n",
            "Epoch 45/100\n",
            "4/4 [==============================] - 0s 12ms/step - loss: 1.5876e-05 - accuracy: 1.0000\n",
            "Epoch 46/100\n",
            "4/4 [==============================] - 0s 9ms/step - loss: 9.3921e-05 - accuracy: 1.0000\n",
            "Epoch 47/100\n",
            "4/4 [==============================] - 0s 9ms/step - loss: 2.3465e-05 - accuracy: 1.0000\n",
            "Epoch 48/100\n",
            "4/4 [==============================] - 0s 9ms/step - loss: 2.5892e-05 - accuracy: 1.0000\n",
            "Epoch 49/100\n",
            "4/4 [==============================] - 0s 9ms/step - loss: 6.5625e-05 - accuracy: 1.0000\n",
            "Epoch 50/100\n",
            "4/4 [==============================] - 0s 11ms/step - loss: 1.4955e-04 - accuracy: 1.0000\n",
            "Epoch 51/100\n",
            "4/4 [==============================] - 0s 15ms/step - loss: 4.1144e-04 - accuracy: 1.0000\n",
            "Epoch 52/100\n",
            "4/4 [==============================] - 0s 11ms/step - loss: 1.4574e-04 - accuracy: 1.0000\n",
            "Epoch 53/100\n",
            "4/4 [==============================] - 0s 12ms/step - loss: 2.8627e-05 - accuracy: 1.0000\n",
            "Epoch 54/100\n",
            "4/4 [==============================] - 0s 11ms/step - loss: 7.7410e-04 - accuracy: 1.0000\n",
            "Epoch 55/100\n",
            "4/4 [==============================] - 0s 12ms/step - loss: 2.8365e-05 - accuracy: 1.0000\n",
            "Epoch 56/100\n",
            "4/4 [==============================] - 0s 15ms/step - loss: 2.9837e-05 - accuracy: 1.0000\n",
            "Epoch 57/100\n",
            "4/4 [==============================] - 0s 10ms/step - loss: 3.1375e-05 - accuracy: 1.0000\n",
            "Epoch 58/100\n",
            "4/4 [==============================] - 0s 10ms/step - loss: 1.8259e-05 - accuracy: 1.0000\n",
            "Epoch 59/100\n",
            "4/4 [==============================] - 0s 10ms/step - loss: 3.4326e-05 - accuracy: 1.0000\n",
            "Epoch 60/100\n",
            "4/4 [==============================] - 0s 10ms/step - loss: 1.7408e-04 - accuracy: 1.0000\n",
            "Epoch 61/100\n",
            "4/4 [==============================] - 0s 11ms/step - loss: 2.1585e-05 - accuracy: 1.0000\n",
            "Epoch 62/100\n",
            "4/4 [==============================] - 0s 11ms/step - loss: 4.6513e-06 - accuracy: 1.0000\n",
            "Epoch 63/100\n",
            "4/4 [==============================] - 0s 10ms/step - loss: 4.2734e-05 - accuracy: 1.0000\n",
            "Epoch 64/100\n",
            "4/4 [==============================] - 0s 11ms/step - loss: 6.2375e-05 - accuracy: 1.0000\n",
            "Epoch 65/100\n",
            "4/4 [==============================] - 0s 10ms/step - loss: 1.9815e-05 - accuracy: 1.0000\n",
            "Epoch 66/100\n",
            "4/4 [==============================] - 0s 11ms/step - loss: 1.3563e-05 - accuracy: 1.0000\n",
            "Epoch 67/100\n",
            "4/4 [==============================] - 0s 12ms/step - loss: 5.8033e-05 - accuracy: 1.0000\n",
            "Epoch 68/100\n",
            "4/4 [==============================] - 0s 10ms/step - loss: 5.2966e-06 - accuracy: 1.0000\n",
            "Epoch 69/100\n",
            "4/4 [==============================] - 0s 11ms/step - loss: 1.1554e-05 - accuracy: 1.0000\n",
            "Epoch 70/100\n",
            "4/4 [==============================] - 0s 11ms/step - loss: 1.2533e-04 - accuracy: 1.0000\n",
            "Epoch 71/100\n",
            "4/4 [==============================] - 0s 10ms/step - loss: 4.7322e-05 - accuracy: 1.0000\n",
            "Epoch 72/100\n",
            "4/4 [==============================] - 0s 11ms/step - loss: 2.4848e-04 - accuracy: 1.0000\n",
            "Epoch 73/100\n",
            "4/4 [==============================] - 0s 11ms/step - loss: 8.3610e-06 - accuracy: 1.0000\n",
            "Epoch 74/100\n",
            "4/4 [==============================] - 0s 13ms/step - loss: 2.9493e-05 - accuracy: 1.0000\n",
            "Epoch 75/100\n",
            "4/4 [==============================] - 0s 14ms/step - loss: 2.8488e-04 - accuracy: 1.0000\n",
            "Epoch 76/100\n",
            "4/4 [==============================] - 0s 14ms/step - loss: 1.5274e-04 - accuracy: 1.0000\n",
            "Epoch 77/100\n",
            "4/4 [==============================] - 0s 14ms/step - loss: 2.4386e-04 - accuracy: 1.0000\n",
            "Epoch 78/100\n",
            "4/4 [==============================] - 0s 14ms/step - loss: 5.9785e-04 - accuracy: 1.0000\n",
            "Epoch 79/100\n",
            "4/4 [==============================] - 0s 13ms/step - loss: 6.2025e-06 - accuracy: 1.0000\n",
            "Epoch 80/100\n",
            "4/4 [==============================] - 0s 19ms/step - loss: 2.0850e-06 - accuracy: 1.0000\n",
            "Epoch 81/100\n",
            "4/4 [==============================] - 0s 23ms/step - loss: 6.3282e-05 - accuracy: 1.0000\n",
            "Epoch 82/100\n",
            "4/4 [==============================] - 0s 15ms/step - loss: 6.1730e-06 - accuracy: 1.0000\n",
            "Epoch 83/100\n",
            "4/4 [==============================] - 0s 30ms/step - loss: 3.7014e-05 - accuracy: 1.0000\n",
            "Epoch 84/100\n",
            "4/4 [==============================] - 0s 30ms/step - loss: 1.2008e-05 - accuracy: 1.0000\n",
            "Epoch 85/100\n",
            "4/4 [==============================] - 0s 26ms/step - loss: 4.8128e-06 - accuracy: 1.0000\n",
            "Epoch 86/100\n",
            "4/4 [==============================] - 0s 16ms/step - loss: 1.6491e-04 - accuracy: 1.0000\n",
            "Epoch 87/100\n",
            "4/4 [==============================] - 0s 24ms/step - loss: 1.5635e-05 - accuracy: 1.0000\n",
            "Epoch 88/100\n",
            "4/4 [==============================] - 0s 17ms/step - loss: 2.5565e-05 - accuracy: 1.0000\n",
            "Epoch 89/100\n",
            "4/4 [==============================] - 0s 16ms/step - loss: 9.9687e-05 - accuracy: 1.0000\n",
            "Epoch 90/100\n",
            "4/4 [==============================] - 0s 35ms/step - loss: 2.7932e-05 - accuracy: 1.0000\n",
            "Epoch 91/100\n",
            "4/4 [==============================] - 0s 17ms/step - loss: 0.0017 - accuracy: 1.0000\n",
            "Epoch 92/100\n",
            "4/4 [==============================] - 0s 23ms/step - loss: 0.0089 - accuracy: 0.9904\n",
            "Epoch 93/100\n",
            "4/4 [==============================] - 0s 24ms/step - loss: 0.0013 - accuracy: 1.0000\n",
            "Epoch 94/100\n",
            "4/4 [==============================] - 0s 16ms/step - loss: 0.0062 - accuracy: 1.0000\n",
            "Epoch 95/100\n",
            "4/4 [==============================] - 0s 16ms/step - loss: 9.3525e-05 - accuracy: 1.0000\n",
            "Epoch 96/100\n",
            "4/4 [==============================] - 0s 17ms/step - loss: 2.4914e-04 - accuracy: 1.0000\n",
            "Epoch 97/100\n",
            "4/4 [==============================] - 0s 22ms/step - loss: 1.2323e-04 - accuracy: 1.0000\n",
            "Epoch 98/100\n",
            "4/4 [==============================] - 0s 27ms/step - loss: 1.1403e-04 - accuracy: 1.0000\n",
            "Epoch 99/100\n",
            "4/4 [==============================] - 0s 24ms/step - loss: 6.4627e-05 - accuracy: 1.0000\n",
            "Epoch 100/100\n",
            "4/4 [==============================] - 0s 23ms/step - loss: 3.6178e-04 - accuracy: 1.0000\n",
            "1/1 [==============================] - 0s 244ms/step - loss: 0.6101 - accuracy: 0.8462\n"
          ]
        },
        {
          "output_type": "execute_result",
          "data": {
            "text/plain": [
              "[0.6101102232933044, 0.8461538553237915]"
            ]
          },
          "metadata": {},
          "execution_count": 12
        }
      ]
    },
    {
      "cell_type": "markdown",
      "source": [
        "# ANN"
      ],
      "metadata": {
        "id": "CRZ4TocUZyfS"
      }
    },
    {
      "cell_type": "code",
      "source": [
        "\n",
        "import numpy as np\n",
        "import pandas as pd\n",
        "from keras.models import Sequential\n",
        "from keras.layers import Dense\n",
        "from keras.utils import to_categorical\n",
        "from sklearn.metrics import accuracy_score, precision_score, recall_score, f1_score\n",
        "from sklearn.preprocessing import LabelEncoder\n",
        "\n",
        "\n",
        "import numpy as np\n",
        "from sklearn.preprocessing import LabelEncoder, OneHotEncoder\n",
        "\n",
        "\n",
        "labels = np.array(y)\n",
        "\n",
        "# Convert labels to numerical encoding\n",
        "label_encoder = LabelEncoder()\n",
        "integer_encoded = label_encoder.fit_transform(labels)\n",
        "\n",
        "# Perform one-hot encoding\n",
        "onehot_encoder = OneHotEncoder(sparse=False, categories='auto')\n",
        "onehot_encoded = onehot_encoder.fit_transform(integer_encoded.reshape(-1, 1))\n",
        "\n",
        "y_reshaped = tf.reshape(y, (-1, 1, 1))\n",
        "\n",
        "print(onehot_encoded)\n",
        "\n",
        "\n",
        "import tensorflow as tf\n",
        "model = tf.keras.Sequential()\n",
        "model.add(tf.keras.layers.Input((54674,)))\n",
        "model.add(tf.keras.layers.Dropout(0.5))\n",
        "model.add(tf.keras.layers.Dense(5,activation='softmax'))\n",
        "model.compile(loss='categorical_crossentropy',optimizer='ADAM',metrics=['accuracy'])\n",
        "model.summary()\n",
        "\n",
        "model.fit(X_train, y_train, epochs=100, batch_size=32 )\n",
        "\n",
        "y_pred = model.predict(X_test)\n",
        "y_pred_classes = np.argmax(y_pred, axis=1)\n",
        "y_test_classes = np.argmax(y_test, axis=1)\n",
        "\n",
        "\n",
        "accuracy = accuracy_score(y_test_classes, y_pred_classes)\n",
        "precision = precision_score(y_test_classes, y_pred_classes, average='macro')\n",
        "recall = recall_score(y_test_classes, y_pred_classes, average='macro')\n",
        "f1 = f1_score(y_test_classes, y_pred_classes, average='macro')\n",
        "print('Accuracy:', accuracy)\n",
        "print('Precision:', precision)\n",
        "print('Recall:', recall)\n",
        "print('F1-score:', f1)\n"
      ],
      "metadata": {
        "colab": {
          "base_uri": "https://localhost:8080/",
          "height": 1000
        },
        "id": "aAjdc2HI4q84",
        "outputId": "094e94d1-2ba1-40e0-bb4a-e530ba34eff9"
      },
      "execution_count": null,
      "outputs": [
        {
          "output_type": "stream",
          "name": "stdout",
          "text": [
            "array([[1., 0., 0., 0., 0.],\n",
            "       [1., 0., 0., 0., 0.],\n",
            "       [1., 0., 0., 0., 0.],\n",
            "       [1., 0., 0., 0., 0.],\n",
            "       [1., 0., 0., 0., 0.],\n",
            "       [1., 0., 0., 0., 0.],\n",
            "       [1., 0., 0., 0., 0.],\n",
            "       [1., 0., 0., 0., 0.],\n",
            "       [1., 0., 0., 0., 0.],\n",
            "       [1., 0., 0., 0., 0.],\n",
            "       [1., 0., 0., 0., 0.],\n",
            "       [1., 0., 0., 0., 0.],\n",
            "       [1., 0., 0., 0., 0.],\n",
            "       [1., 0., 0., 0., 0.],\n",
            "       [1., 0., 0., 0., 0.],\n",
            "       [1., 0., 0., 0., 0.],\n",
            "       [1., 0., 0., 0., 0.],\n",
            "       [1., 0., 0., 0., 0.],\n",
            "       [1., 0., 0., 0., 0.],\n",
            "       [1., 0., 0., 0., 0.],\n",
            "       [1., 0., 0., 0., 0.],\n",
            "       [1., 0., 0., 0., 0.],\n",
            "       [1., 0., 0., 0., 0.],\n",
            "       [1., 0., 0., 0., 0.],\n",
            "       [1., 0., 0., 0., 0.],\n",
            "       [1., 0., 0., 0., 0.],\n",
            "       [1., 0., 0., 0., 0.],\n",
            "       [1., 0., 0., 0., 0.],\n",
            "       [1., 0., 0., 0., 0.],\n",
            "       [1., 0., 0., 0., 0.],\n",
            "       [1., 0., 0., 0., 0.],\n",
            "       [1., 0., 0., 0., 0.],\n",
            "       [1., 0., 0., 0., 0.],\n",
            "       [1., 0., 0., 0., 0.],\n",
            "       [1., 0., 0., 0., 0.],\n",
            "       [1., 0., 0., 0., 0.],\n",
            "       [1., 0., 0., 0., 0.],\n",
            "       [1., 0., 0., 0., 0.],\n",
            "       [1., 0., 0., 0., 0.],\n",
            "       [1., 0., 0., 0., 0.],\n",
            "       [1., 0., 0., 0., 0.],\n",
            "       [1., 0., 0., 0., 0.],\n",
            "       [1., 0., 0., 0., 0.],\n",
            "       [1., 0., 0., 0., 0.],\n",
            "       [1., 0., 0., 0., 0.],\n",
            "       [1., 0., 0., 0., 0.],\n",
            "       [0., 1., 0., 0., 0.],\n",
            "       [0., 1., 0., 0., 0.],\n",
            "       [0., 1., 0., 0., 0.],\n",
            "       [0., 1., 0., 0., 0.],\n",
            "       [0., 1., 0., 0., 0.],\n",
            "       [0., 1., 0., 0., 0.],\n",
            "       [0., 1., 0., 0., 0.],\n",
            "       [0., 1., 0., 0., 0.],\n",
            "       [0., 1., 0., 0., 0.],\n",
            "       [0., 1., 0., 0., 0.],\n",
            "       [0., 1., 0., 0., 0.],\n",
            "       [0., 1., 0., 0., 0.],\n",
            "       [0., 1., 0., 0., 0.],\n",
            "       [0., 1., 0., 0., 0.],\n",
            "       [0., 1., 0., 0., 0.],\n",
            "       [0., 1., 0., 0., 0.],\n",
            "       [0., 1., 0., 0., 0.],\n",
            "       [0., 1., 0., 0., 0.],\n",
            "       [0., 1., 0., 0., 0.],\n",
            "       [0., 1., 0., 0., 0.],\n",
            "       [0., 1., 0., 0., 0.],\n",
            "       [0., 1., 0., 0., 0.],\n",
            "       [0., 1., 0., 0., 0.],\n",
            "       [0., 1., 0., 0., 0.],\n",
            "       [0., 1., 0., 0., 0.],\n",
            "       [0., 1., 0., 0., 0.],\n",
            "       [0., 1., 0., 0., 0.],\n",
            "       [0., 1., 0., 0., 0.],\n",
            "       [0., 1., 0., 0., 0.],\n",
            "       [0., 1., 0., 0., 0.],\n",
            "       [0., 1., 0., 0., 0.],\n",
            "       [0., 1., 0., 0., 0.],\n",
            "       [0., 1., 0., 0., 0.],\n",
            "       [0., 1., 0., 0., 0.],\n",
            "       [0., 0., 1., 0., 0.],\n",
            "       [0., 0., 1., 0., 0.],\n",
            "       [0., 0., 1., 0., 0.],\n",
            "       [0., 0., 1., 0., 0.],\n",
            "       [0., 0., 1., 0., 0.],\n",
            "       [0., 0., 1., 0., 0.],\n",
            "       [0., 0., 1., 0., 0.],\n",
            "       [0., 0., 1., 0., 0.],\n",
            "       [0., 0., 1., 0., 0.],\n",
            "       [0., 0., 1., 0., 0.],\n",
            "       [0., 0., 1., 0., 0.],\n",
            "       [0., 0., 1., 0., 0.],\n",
            "       [0., 0., 1., 0., 0.],\n",
            "       [0., 0., 1., 0., 0.],\n",
            "       [0., 0., 1., 0., 0.],\n",
            "       [0., 0., 1., 0., 0.],\n",
            "       [0., 0., 1., 0., 0.],\n",
            "       [0., 0., 1., 0., 0.],\n",
            "       [0., 0., 1., 0., 0.],\n",
            "       [0., 0., 1., 0., 0.],\n",
            "       [0., 0., 1., 0., 0.],\n",
            "       [0., 0., 1., 0., 0.],\n",
            "       [0., 0., 0., 1., 0.],\n",
            "       [0., 0., 0., 1., 0.],\n",
            "       [0., 0., 0., 1., 0.],\n",
            "       [0., 0., 0., 1., 0.],\n",
            "       [0., 0., 0., 1., 0.],\n",
            "       [0., 0., 0., 1., 0.],\n",
            "       [0., 0., 0., 1., 0.],\n",
            "       [0., 0., 0., 1., 0.],\n",
            "       [0., 0., 0., 1., 0.],\n",
            "       [0., 0., 0., 1., 0.],\n",
            "       [0., 0., 0., 1., 0.],\n",
            "       [0., 0., 0., 1., 0.],\n",
            "       [0., 0., 0., 1., 0.],\n",
            "       [0., 0., 0., 0., 1.],\n",
            "       [0., 0., 0., 0., 1.],\n",
            "       [0., 0., 0., 0., 1.],\n",
            "       [0., 0., 0., 0., 1.],\n",
            "       [0., 0., 0., 0., 1.],\n",
            "       [0., 0., 0., 0., 1.],\n",
            "       [0., 0., 0., 0., 1.],\n",
            "       [0., 0., 0., 0., 1.],\n",
            "       [0., 0., 0., 0., 1.],\n",
            "       [0., 0., 0., 0., 1.],\n",
            "       [0., 0., 0., 0., 1.],\n",
            "       [0., 0., 0., 0., 1.],\n",
            "       [0., 0., 0., 0., 1.],\n",
            "       [0., 0., 0., 0., 1.],\n",
            "       [0., 0., 0., 0., 1.]])\n",
            "Model: \"sequential_20\"\n",
            "_________________________________________________________________\n",
            " Layer (type)                Output Shape              Param #   \n",
            "=================================================================\n",
            " dropout_13 (Dropout)        (None, 54674)             0         \n",
            "                                                                 \n",
            " dense_26 (Dense)            (None, 5)                 273375    \n",
            "                                                                 \n",
            "=================================================================\n",
            "Total params: 273,375\n",
            "Trainable params: 273,375\n",
            "Non-trainable params: 0\n",
            "_________________________________________________________________\n",
            "Epoch 1/100\n"
          ]
        },
        {
          "output_type": "error",
          "ename": "ValueError",
          "evalue": "ignored",
          "traceback": [
            "\u001b[0;31m---------------------------------------------------------------------------\u001b[0m",
            "\u001b[0;31mValueError\u001b[0m                                Traceback (most recent call last)",
            "\u001b[0;32m<ipython-input-60-b363d4b212b3>\u001b[0m in \u001b[0;36m<module>\u001b[0;34m\u001b[0m\n\u001b[1;32m     38\u001b[0m \u001b[0;34m\u001b[0m\u001b[0m\n\u001b[1;32m     39\u001b[0m \u001b[0;31m# Train Neural Network model\u001b[0m\u001b[0;34m\u001b[0m\u001b[0;34m\u001b[0m\u001b[0;34m\u001b[0m\u001b[0m\n\u001b[0;32m---> 40\u001b[0;31m \u001b[0mmodel\u001b[0m\u001b[0;34m.\u001b[0m\u001b[0mfit\u001b[0m\u001b[0;34m(\u001b[0m\u001b[0mX_train\u001b[0m\u001b[0;34m,\u001b[0m \u001b[0my_train\u001b[0m\u001b[0;34m,\u001b[0m \u001b[0mepochs\u001b[0m\u001b[0;34m=\u001b[0m\u001b[0;36m100\u001b[0m\u001b[0;34m,\u001b[0m \u001b[0mbatch_size\u001b[0m\u001b[0;34m=\u001b[0m\u001b[0;36m32\u001b[0m \u001b[0;34m)\u001b[0m\u001b[0;34m\u001b[0m\u001b[0;34m\u001b[0m\u001b[0m\n\u001b[0m\u001b[1;32m     41\u001b[0m \u001b[0;34m\u001b[0m\u001b[0m\n\u001b[1;32m     42\u001b[0m \u001b[0;31m# Test Neural Network model\u001b[0m\u001b[0;34m\u001b[0m\u001b[0;34m\u001b[0m\u001b[0;34m\u001b[0m\u001b[0m\n",
            "\u001b[0;32m/usr/local/lib/python3.8/dist-packages/keras/utils/traceback_utils.py\u001b[0m in \u001b[0;36merror_handler\u001b[0;34m(*args, **kwargs)\u001b[0m\n\u001b[1;32m     68\u001b[0m             \u001b[0;31m# To get the full stack trace, call:\u001b[0m\u001b[0;34m\u001b[0m\u001b[0;34m\u001b[0m\u001b[0;34m\u001b[0m\u001b[0m\n\u001b[1;32m     69\u001b[0m             \u001b[0;31m# `tf.debugging.disable_traceback_filtering()`\u001b[0m\u001b[0;34m\u001b[0m\u001b[0;34m\u001b[0m\u001b[0;34m\u001b[0m\u001b[0m\n\u001b[0;32m---> 70\u001b[0;31m             \u001b[0;32mraise\u001b[0m \u001b[0me\u001b[0m\u001b[0;34m.\u001b[0m\u001b[0mwith_traceback\u001b[0m\u001b[0;34m(\u001b[0m\u001b[0mfiltered_tb\u001b[0m\u001b[0;34m)\u001b[0m \u001b[0;32mfrom\u001b[0m \u001b[0;32mNone\u001b[0m\u001b[0;34m\u001b[0m\u001b[0;34m\u001b[0m\u001b[0m\n\u001b[0m\u001b[1;32m     71\u001b[0m         \u001b[0;32mfinally\u001b[0m\u001b[0;34m:\u001b[0m\u001b[0;34m\u001b[0m\u001b[0;34m\u001b[0m\u001b[0m\n\u001b[1;32m     72\u001b[0m             \u001b[0;32mdel\u001b[0m \u001b[0mfiltered_tb\u001b[0m\u001b[0;34m\u001b[0m\u001b[0;34m\u001b[0m\u001b[0m\n",
            "\u001b[0;32m/usr/local/lib/python3.8/dist-packages/keras/engine/training.py\u001b[0m in \u001b[0;36mtf__train_function\u001b[0;34m(iterator)\u001b[0m\n\u001b[1;32m     13\u001b[0m                 \u001b[0;32mtry\u001b[0m\u001b[0;34m:\u001b[0m\u001b[0;34m\u001b[0m\u001b[0;34m\u001b[0m\u001b[0m\n\u001b[1;32m     14\u001b[0m                     \u001b[0mdo_return\u001b[0m \u001b[0;34m=\u001b[0m \u001b[0;32mTrue\u001b[0m\u001b[0;34m\u001b[0m\u001b[0;34m\u001b[0m\u001b[0m\n\u001b[0;32m---> 15\u001b[0;31m                     \u001b[0mretval_\u001b[0m \u001b[0;34m=\u001b[0m \u001b[0mag__\u001b[0m\u001b[0;34m.\u001b[0m\u001b[0mconverted_call\u001b[0m\u001b[0;34m(\u001b[0m\u001b[0mag__\u001b[0m\u001b[0;34m.\u001b[0m\u001b[0mld\u001b[0m\u001b[0;34m(\u001b[0m\u001b[0mstep_function\u001b[0m\u001b[0;34m)\u001b[0m\u001b[0;34m,\u001b[0m \u001b[0;34m(\u001b[0m\u001b[0mag__\u001b[0m\u001b[0;34m.\u001b[0m\u001b[0mld\u001b[0m\u001b[0;34m(\u001b[0m\u001b[0mself\u001b[0m\u001b[0;34m)\u001b[0m\u001b[0;34m,\u001b[0m \u001b[0mag__\u001b[0m\u001b[0;34m.\u001b[0m\u001b[0mld\u001b[0m\u001b[0;34m(\u001b[0m\u001b[0miterator\u001b[0m\u001b[0;34m)\u001b[0m\u001b[0;34m)\u001b[0m\u001b[0;34m,\u001b[0m \u001b[0;32mNone\u001b[0m\u001b[0;34m,\u001b[0m \u001b[0mfscope\u001b[0m\u001b[0;34m)\u001b[0m\u001b[0;34m\u001b[0m\u001b[0;34m\u001b[0m\u001b[0m\n\u001b[0m\u001b[1;32m     16\u001b[0m                 \u001b[0;32mexcept\u001b[0m\u001b[0;34m:\u001b[0m\u001b[0;34m\u001b[0m\u001b[0;34m\u001b[0m\u001b[0m\n\u001b[1;32m     17\u001b[0m                     \u001b[0mdo_return\u001b[0m \u001b[0;34m=\u001b[0m \u001b[0;32mFalse\u001b[0m\u001b[0;34m\u001b[0m\u001b[0;34m\u001b[0m\u001b[0m\n",
            "\u001b[0;31mValueError\u001b[0m: in user code:\n\n    File \"/usr/local/lib/python3.8/dist-packages/keras/engine/training.py\", line 1249, in train_function  *\n        return step_function(self, iterator)\n    File \"/usr/local/lib/python3.8/dist-packages/keras/engine/training.py\", line 1233, in step_function  **\n        outputs = model.distribute_strategy.run(run_step, args=(data,))\n    File \"/usr/local/lib/python3.8/dist-packages/keras/engine/training.py\", line 1222, in run_step  **\n        outputs = model.train_step(data)\n    File \"/usr/local/lib/python3.8/dist-packages/keras/engine/training.py\", line 1024, in train_step\n        loss = self.compute_loss(x, y, y_pred, sample_weight)\n    File \"/usr/local/lib/python3.8/dist-packages/keras/engine/training.py\", line 1082, in compute_loss\n        return self.compiled_loss(\n    File \"/usr/local/lib/python3.8/dist-packages/keras/engine/compile_utils.py\", line 265, in __call__\n        loss_value = loss_obj(y_t, y_p, sample_weight=sw)\n    File \"/usr/local/lib/python3.8/dist-packages/keras/losses.py\", line 152, in __call__\n        losses = call_fn(y_true, y_pred)\n    File \"/usr/local/lib/python3.8/dist-packages/keras/losses.py\", line 284, in call  **\n        return ag_fn(y_true, y_pred, **self._fn_kwargs)\n    File \"/usr/local/lib/python3.8/dist-packages/keras/losses.py\", line 2004, in categorical_crossentropy\n        return backend.categorical_crossentropy(\n    File \"/usr/local/lib/python3.8/dist-packages/keras/backend.py\", line 5532, in categorical_crossentropy\n        target.shape.assert_is_compatible_with(output.shape)\n\n    ValueError: Shapes (None, 1) and (None, 5) are incompatible\n"
          ]
        }
      ]
    },
    {
      "cell_type": "markdown",
      "source": [
        "# **Random Forest model **"
      ],
      "metadata": {
        "id": "59OxUOJQ4guS"
      }
    },
    {
      "cell_type": "code",
      "source": [
        "from sklearn.ensemble import RandomForestClassifier\n",
        "model = RandomForestClassifier()\n",
        "model.fit(X_train,y_train)"
      ],
      "metadata": {
        "id": "g3cMv7g44rBN",
        "colab": {
          "base_uri": "https://localhost:8080/"
        },
        "outputId": "dfe85e4f-04da-4d58-e1ac-2c1f2f2379db"
      },
      "execution_count": null,
      "outputs": [
        {
          "output_type": "execute_result",
          "data": {
            "text/plain": [
              "RandomForestClassifier()"
            ]
          },
          "metadata": {},
          "execution_count": 62
        }
      ]
    },
    {
      "cell_type": "markdown",
      "source": [
        "# OneVsOneClassifier model"
      ],
      "metadata": {
        "id": "FM68xoNm4bWh"
      }
    },
    {
      "cell_type": "code",
      "source": [
        "import numpy as np\n",
        "import pandas as pd\n",
        "from sklearn.model_selection import train_test_split\n",
        "from sklearn.multiclass import OneVsOneClassifier\n",
        "from sklearn.svm import SVC\n",
        "\n",
        "model2 = OneVsOneClassifier(SVC(kernel='linear'))\n",
        "model2.fit(X_train, y_train)\n",
        "\n",
        "y_pred = model.predict(X_test)\n",
        "\n",
        "# Evaluate performance\n",
        "accuracy = model2.score(X_test, y_test)\n",
        "precision = precision_score(y_test, y_pred, average='micro')\n",
        "recall = recall_score(y_test, y_pred, average='micro')\n",
        "f1 = f1_score(y_test, y_pred, average='micro')\n",
        "print('Accuracy:', accuracy)\n",
        "print('Precision:', precision)\n",
        "print('Recall:', recall)\n",
        "print('F1-score:', f1)"
      ],
      "metadata": {
        "colab": {
          "base_uri": "https://localhost:8080/"
        },
        "id": "HY59sbep0gy2",
        "outputId": "2968fd2a-53ba-4612-fea3-41cc1935dea5"
      },
      "execution_count": null,
      "outputs": [
        {
          "output_type": "stream",
          "name": "stdout",
          "text": [
            "Accuracy: 0.9230769230769231\n",
            "Precision: 0.8974358974358975\n",
            "Recall: 0.8974358974358975\n",
            "F1-score: 0.8974358974358975\n"
          ]
        }
      ]
    },
    {
      "cell_type": "markdown",
      "source": [
        "# evaluation **"
      ],
      "metadata": {
        "id": "JanG1359kADg"
      }
    },
    {
      "cell_type": "code",
      "source": [
        "from sklearn.metrics import *\n",
        "\n",
        "y_pred = model.predict(X_test)"
      ],
      "metadata": {
        "id": "j-IlDgVRCDOE"
      },
      "execution_count": null,
      "outputs": []
    },
    {
      "cell_type": "code",
      "source": [
        "import numpy as np\n",
        "\n",
        "accuracy = accuracy_score(y_test, y_pred)\n",
        "precision = precision_score(y_test,y_pred,average='macro')\n",
        "\n",
        "print(\"Accuracy: \", accuracy, \"precision\",precision,)"
      ],
      "metadata": {
        "colab": {
          "base_uri": "https://localhost:8080/"
        },
        "id": "H2AZmSKO9Zp1",
        "outputId": "4af07bda-13ad-4db6-9bea-b3d17848be27"
      },
      "execution_count": null,
      "outputs": [
        {
          "output_type": "stream",
          "name": "stdout",
          "text": [
            "Accuracy:  0.9230769230769231 precision 0.9266666666666667\n"
          ]
        }
      ]
    },
    {
      "cell_type": "markdown",
      "source": [
        "# *for better results I want to try repeting the spliting 10 times and calculate the avredge *"
      ],
      "metadata": {
        "id": "IAJM5lIjv9v8"
      }
    },
    {
      "cell_type": "code",
      "source": [
        "# repeat the random forest classification 10 times and store the accuracy\n",
        "from sklearn.model_selection import train_test_split\n",
        "import numpy as np\n",
        "accuracy_list = []\n",
        "for i in range(10):\n",
        "    X_train, X_test, y_train, y_test = train_test_split(x, y, test_size=0.2, random_state=42,shuffle=True)\n",
        "    model.fit(X_train, y_train)\n",
        "    y_pred = model.predict(X_test)\n",
        "    accuracy = np.mean(y_pred == y_test)\n",
        "    accuracy_list.append(accuracy)\n",
        "\n",
        "# calculate the average accuracy\n",
        "average_accuracy = np.mean(accuracy_list)\n",
        "precision = precision_score(y_test,y_pred,average='macro')\n",
        "print(f\"Average accuracy: {average_accuracy}\",  \"precision\",precision,)"
      ],
      "metadata": {
        "colab": {
          "base_uri": "https://localhost:8080/"
        },
        "id": "nTiQ99qhvL18",
        "outputId": "7ed83612-aa01-47ec-a3b0-057db31c05ad"
      },
      "execution_count": null,
      "outputs": [
        {
          "output_type": "stream",
          "name": "stdout",
          "text": [
            "Average accuracy: 0.9230769230769231 precision 0.9333333333333332\n"
          ]
        }
      ]
    },
    {
      "cell_type": "markdown",
      "source": [
        "# **Deploy**"
      ],
      "metadata": {
        "id": "i5-s5DRnMWk7"
      }
    },
    {
      "cell_type": "code",
      "source": [
        "model = RandomForestClassifier()\n",
        "model.fit(x,y)"
      ],
      "metadata": {
        "colab": {
          "base_uri": "https://localhost:8080/"
        },
        "id": "criJrClMOM05",
        "outputId": "4b4c6dd2-c1ef-4b17-a15f-630b635cb676"
      },
      "execution_count": null,
      "outputs": [
        {
          "output_type": "execute_result",
          "data": {
            "text/plain": [
              "RandomForestClassifier()"
            ]
          },
          "metadata": {},
          "execution_count": 41
        }
      ]
    },
    {
      "cell_type": "markdown",
      "source": [
        "Convertir vers un fichier (Serialisation)"
      ],
      "metadata": {
        "id": "2HHlrMTLPYF_"
      }
    },
    {
      "cell_type": "code",
      "source": [
        "import pickle\n",
        "pickle.dump(model, open('randommodel', 'wb'))"
      ],
      "metadata": {
        "id": "uQljqlglOduw"
      },
      "execution_count": null,
      "outputs": []
    },
    {
      "cell_type": "markdown",
      "source": [
        "Convertir le fichier vers un model ( deserialisation)"
      ],
      "metadata": {
        "id": "n2A1y1uPPcw_"
      }
    },
    {
      "cell_type": "code",
      "source": [
        "model_loaded = pickle.load(open('randommodel','rb'))"
      ],
      "metadata": {
        "id": "7rQeYQ5kPgtY"
      },
      "execution_count": null,
      "outputs": []
    },
    {
      "cell_type": "code",
      "source": [
        "print(model_loaded.predict(x))"
      ],
      "metadata": {
        "colab": {
          "base_uri": "https://localhost:8080/"
        },
        "id": "3ZD1D5D4RKmV",
        "outputId": "87cf7eb0-16c5-403a-c847-be1124db1adc"
      },
      "execution_count": null,
      "outputs": [
        {
          "output_type": "stream",
          "name": "stdout",
          "text": [
            "['ependymoma' 'ependymoma' 'ependymoma' 'ependymoma' 'ependymoma'\n",
            " 'ependymoma' 'ependymoma' 'ependymoma' 'ependymoma' 'ependymoma'\n",
            " 'ependymoma' 'ependymoma' 'ependymoma' 'ependymoma' 'ependymoma'\n",
            " 'ependymoma' 'ependymoma' 'ependymoma' 'ependymoma' 'ependymoma'\n",
            " 'ependymoma' 'ependymoma' 'ependymoma' 'ependymoma' 'ependymoma'\n",
            " 'ependymoma' 'ependymoma' 'ependymoma' 'ependymoma' 'ependymoma'\n",
            " 'ependymoma' 'ependymoma' 'ependymoma' 'ependymoma' 'ependymoma'\n",
            " 'ependymoma' 'ependymoma' 'ependymoma' 'ependymoma' 'ependymoma'\n",
            " 'ependymoma' 'ependymoma' 'ependymoma' 'ependymoma' 'ependymoma'\n",
            " 'ependymoma' 'glioblastoma' 'glioblastoma' 'glioblastoma' 'glioblastoma'\n",
            " 'glioblastoma' 'glioblastoma' 'glioblastoma' 'glioblastoma'\n",
            " 'glioblastoma' 'glioblastoma' 'glioblastoma' 'glioblastoma'\n",
            " 'glioblastoma' 'glioblastoma' 'glioblastoma' 'glioblastoma'\n",
            " 'glioblastoma' 'glioblastoma' 'glioblastoma' 'glioblastoma'\n",
            " 'glioblastoma' 'glioblastoma' 'glioblastoma' 'glioblastoma'\n",
            " 'glioblastoma' 'glioblastoma' 'glioblastoma' 'glioblastoma'\n",
            " 'glioblastoma' 'glioblastoma' 'glioblastoma' 'glioblastoma'\n",
            " 'glioblastoma' 'glioblastoma' 'medulloblastoma' 'medulloblastoma'\n",
            " 'medulloblastoma' 'medulloblastoma' 'medulloblastoma' 'medulloblastoma'\n",
            " 'medulloblastoma' 'medulloblastoma' 'medulloblastoma' 'medulloblastoma'\n",
            " 'medulloblastoma' 'medulloblastoma' 'medulloblastoma' 'medulloblastoma'\n",
            " 'medulloblastoma' 'medulloblastoma' 'medulloblastoma' 'medulloblastoma'\n",
            " 'medulloblastoma' 'medulloblastoma' 'medulloblastoma' 'medulloblastoma'\n",
            " 'normal' 'normal' 'normal' 'normal' 'normal' 'normal' 'normal' 'normal'\n",
            " 'normal' 'normal' 'normal' 'normal' 'normal' 'pilocytic_astrocytoma'\n",
            " 'pilocytic_astrocytoma' 'pilocytic_astrocytoma' 'pilocytic_astrocytoma'\n",
            " 'pilocytic_astrocytoma' 'pilocytic_astrocytoma' 'pilocytic_astrocytoma'\n",
            " 'pilocytic_astrocytoma' 'pilocytic_astrocytoma' 'pilocytic_astrocytoma'\n",
            " 'pilocytic_astrocytoma' 'pilocytic_astrocytoma' 'pilocytic_astrocytoma'\n",
            " 'pilocytic_astrocytoma' 'pilocytic_astrocytoma']\n"
          ]
        }
      ]
    },
    {
      "cell_type": "markdown",
      "source": [
        "# ***La validation croisé***\n",
        "\n",
        "\n"
      ],
      "metadata": {
        "id": "RvhZUhBRYTol"
      }
    },
    {
      "cell_type": "code",
      "source": [
        "model = RandomForestClassifier()\n",
        "\n",
        "\n",
        "from sklearn.model_selection import cross_validate\n",
        "from sklearn.metrics import accuracy_score, f1_score, precision_score\n",
        "scores = cross_validate(model,x, y, cv=3,scoring=['accuracy','precision_weighted',])\n",
        "print(scores)\n",
        "\n",
        "\n",
        "\n"
      ],
      "metadata": {
        "colab": {
          "base_uri": "https://localhost:8080/"
        },
        "id": "ZHZX7O0KYfb1",
        "outputId": "50ece9bd-3d86-48ca-fd98-4285fec81048"
      },
      "execution_count": null,
      "outputs": [
        {
          "output_type": "stream",
          "name": "stdout",
          "text": [
            "{'fit_time': array([0.89606738, 0.81429982, 1.17693663]),\n",
            " 'score_time': array([0.34476781, 0.30993629, 0.61388016]),\n",
            " 'test_accuracy': array([0.93181818, 0.97674419, 0.8372093 ]),\n",
            " 'test_precision_weighted': array([0.94642857, 0.97853309, 0.8496124 ])}\n"
          ]
        }
      ]
    },
    {
      "cell_type": "markdown",
      "source": [
        "random forest give us better accuracy\n"
      ],
      "metadata": {
        "id": "O2JESbJjUIaX"
      }
    }
  ]
}