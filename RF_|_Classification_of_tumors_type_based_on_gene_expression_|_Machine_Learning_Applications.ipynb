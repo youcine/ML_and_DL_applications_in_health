{
  "nbformat": 4,
  "nbformat_minor": 0,
  "metadata": {
    "colab": {
      "provenance": [],
      "collapsed_sections": [
        "ll9N-DhFDYPg"
      ],
      "include_colab_link": true
    },
    "kernelspec": {
      "name": "python3",
      "display_name": "Python 3"
    },
    "language_info": {
      "name": "python"
    }
  },
  "cells": [
    {
      "cell_type": "markdown",
      "metadata": {
        "id": "view-in-github",
        "colab_type": "text"
      },
      "source": [
        "<a href=\"https://colab.research.google.com/github/youcine/ML_and_DL_applications_in_health/blob/main/RF_%7C_Classification_of_tumors_type_based_on_gene_expression_%7C_Machine_Learning_Applications.ipynb\" target=\"_parent\"><img src=\"https://colab.research.google.com/assets/colab-badge.svg\" alt=\"Open In Colab\"/></a>"
      ]
    },
    {
      "cell_type": "markdown",
      "source": [
        "# ***Download data using WGET***"
      ],
      "metadata": {
        "id": "3OPYa9KPCN40"
      }
    },
    {
      "cell_type": "code",
      "execution_count": null,
      "metadata": {
        "colab": {
          "base_uri": "https://localhost:8080/"
        },
        "id": "dnR4xthAHxGh",
        "outputId": "11e6ce64-d171-48f9-ff2b-e623ce002c77"
      },
      "outputs": [
        {
          "output_type": "stream",
          "name": "stdout",
          "text": [
            "Mounted at /content/drive\n"
          ]
        }
      ],
      "source": [
        "from google.colab import drive\n",
        "drive.mount('/content/drive')\n"
      ]
    },
    {
      "cell_type": "markdown",
      "source": [
        "# ***Extract Data from archive using TAR -XF***"
      ],
      "metadata": {
        "id": "7M0kS5VqCXAt"
      }
    },
    {
      "cell_type": "code",
      "source": [
        "!unzip \"/content/drive/MyDrive/Colab_Notebooks/Evaluation.zip\""
      ],
      "metadata": {
        "id": "eGvhBq8rteg8",
        "colab": {
          "base_uri": "https://localhost:8080/"
        },
        "outputId": "fb3138d8-5b6a-4925-a3cb-44646e768dd4"
      },
      "execution_count": null,
      "outputs": [
        {
          "output_type": "stream",
          "name": "stdout",
          "text": [
            "Archive:  /content/drive/MyDrive/Colab_Notebooks/Evaluation.zip\n",
            "replace /content/drive/MyDrive/Colab_Notebooks/Brain_GSE50161.csv? [y]es, [n]o, [A]ll, [N]one, [r]ename: y\n",
            "  inflating: /content/drive/MyDrive/Colab_Notebooks/Brain_GSE50161.csv  \n"
          ]
        }
      ]
    },
    {
      "cell_type": "code",
      "source": [
        "cd /content/drive/MyDrive/Colab_Notebooks"
      ],
      "metadata": {
        "id": "c4KWc2pHpmPt",
        "colab": {
          "base_uri": "https://localhost:8080/"
        },
        "outputId": "e3ba7145-96d2-43e6-dd55-a23ba7eda36d"
      },
      "execution_count": null,
      "outputs": [
        {
          "output_type": "stream",
          "name": "stdout",
          "text": [
            "/content/drive/MyDrive/Colab_Notebooks\n"
          ]
        }
      ]
    },
    {
      "cell_type": "markdown",
      "source": [
        "# ***Get DATAFRAME ('Tableau') from file using pandas where file is csv format***"
      ],
      "metadata": {
        "id": "EoE_FHP4Cjt2"
      }
    },
    {
      "cell_type": "code",
      "source": [
        "import pandas as pd\n",
        "data = pd.read_csv('Brain_GSE50161.csv')"
      ],
      "metadata": {
        "id": "EJmz792_w0vY"
      },
      "execution_count": null,
      "outputs": []
    },
    {
      "cell_type": "code",
      "source": [
        "print(data)"
      ],
      "metadata": {
        "colab": {
          "base_uri": "https://localhost:8080/"
        },
        "id": "AlBScxpBzkJt",
        "outputId": "29134db4-0797-4b29-870f-c5b84b65bbd7"
      },
      "execution_count": null,
      "outputs": [
        {
          "output_type": "stream",
          "name": "stdout",
          "text": [
            "     samples                   type  1007_s_at   1053_at     117_at    121_at  \\\n",
            "0        834             ependymoma  12.498150  7.604868   6.880934  9.027128   \n",
            "1        835             ependymoma  13.067436  7.998090   7.209076  9.723322   \n",
            "2        836             ependymoma  13.068179  8.573674   8.647684  9.613002   \n",
            "3        837             ependymoma  12.456040  9.098977   6.628784  8.517677   \n",
            "4        838             ependymoma  12.699958  8.800721  11.556188  9.166309   \n",
            "..       ...                    ...        ...       ...        ...       ...   \n",
            "125      959  pilocytic_astrocytoma  12.658228  8.843270   7.672655  9.125912   \n",
            "126      960  pilocytic_astrocytoma  12.812823  8.510550   8.729699  9.104402   \n",
            "127      961  pilocytic_astrocytoma  12.706991  8.795721   7.772359  8.327273   \n",
            "128      962  pilocytic_astrocytoma  12.684593  8.293938   7.228186  8.494428   \n",
            "129      963  pilocytic_astrocytoma  12.397722  8.843524   8.825100  8.551541   \n",
            "\n",
            "     1255_g_at   1294_at   1316_at   1320_at  ...  AFFX-r2-Ec-bioD-3_at  \\\n",
            "0     4.176175  7.224920  6.085942  6.835999  ...              9.979005   \n",
            "1     4.826126  7.539381  6.250962  8.012549  ...             11.924749   \n",
            "2     4.396581  7.813101  6.007746  7.178156  ...             12.154405   \n",
            "3     4.154847  8.361843  6.596064  6.347285  ...             11.969072   \n",
            "4     4.165891  7.923826  6.212754  6.866387  ...             11.411701   \n",
            "..         ...       ...       ...       ...  ...                   ...   \n",
            "125   5.495477  8.603892  7.747514  5.828978  ...             13.170441   \n",
            "126   3.967228  7.719089  7.092496  6.504812  ...             13.040267   \n",
            "127   6.329383  8.550471  6.613332  6.308945  ...             12.825383   \n",
            "128   6.049414  8.214729  7.287758  5.732710  ...             13.116581   \n",
            "129   5.002072  8.547894  6.920827  5.738159  ...             13.117180   \n",
            "\n",
            "     AFFX-r2-Ec-bioD-5_at  AFFX-r2-P1-cre-3_at  AFFX-r2-P1-cre-5_at  \\\n",
            "0                9.926470            12.719785            12.777792   \n",
            "1               11.215930            13.605662            13.401342   \n",
            "2               11.532460            13.764593            13.477800   \n",
            "3               11.288801            13.600828            13.379029   \n",
            "4               11.169317            13.751442            13.803646   \n",
            "..                    ...                  ...                  ...   \n",
            "125             12.676080            14.124837            13.996436   \n",
            "126             12.403316            13.978009            13.812916   \n",
            "127             12.439265            14.328373            14.008693   \n",
            "128             12.657967            14.390346            14.194904   \n",
            "129             12.699932            14.286779            14.088950   \n",
            "\n",
            "     AFFX-ThrX-3_at  AFFX-ThrX-5_at  AFFX-ThrX-M_at  AFFX-TrpnX-3_at  \\\n",
            "0          5.403657        4.870548        4.047380         3.721936   \n",
            "1          5.224555        4.895315        3.786437         3.564481   \n",
            "2          5.303565        5.052184        4.005343         3.595382   \n",
            "3          4.953429        4.708371        3.892318         3.759429   \n",
            "4          4.892677        4.773806        3.796856         3.577544   \n",
            "..              ...             ...             ...              ...   \n",
            "125        4.913579        4.399176        3.878855         3.680103   \n",
            "126        5.189600        4.912618        3.764800         3.664920   \n",
            "127        4.931460        4.712895        3.913637         3.700964   \n",
            "128        4.871092        4.739400        3.782980         3.920363   \n",
            "129        4.932377        4.700205        3.952850         3.678112   \n",
            "\n",
            "     AFFX-TrpnX-5_at  AFFX-TrpnX-M_at  \n",
            "0           4.516434         4.749940  \n",
            "1           4.430891         4.491416  \n",
            "2           4.563494         4.668827  \n",
            "3           4.748381         4.521275  \n",
            "4           4.504385         4.541450  \n",
            "..               ...              ...  \n",
            "125         4.726784         4.564637  \n",
            "126         4.628355         4.761351  \n",
            "127         4.764693         4.834952  \n",
            "128         4.665584         4.613326  \n",
            "129         5.018501         4.704779  \n",
            "\n",
            "[130 rows x 54677 columns]\n"
          ]
        }
      ]
    },
    {
      "cell_type": "markdown",
      "source": [
        "# ***Show the loaded data in table format***"
      ],
      "metadata": {
        "id": "SB-hGJ7oC2mr"
      }
    },
    {
      "cell_type": "code",
      "source": [
        "data.head()"
      ],
      "metadata": {
        "colab": {
          "base_uri": "https://localhost:8080/",
          "height": 334
        },
        "id": "ANk7sKjE0eY9",
        "outputId": "fda90c2c-4816-4f18-9913-888536950412"
      },
      "execution_count": null,
      "outputs": [
        {
          "output_type": "execute_result",
          "data": {
            "text/plain": [
              "   samples        type  1007_s_at   1053_at     117_at    121_at  1255_g_at  \\\n",
              "0      834  ependymoma  12.498150  7.604868   6.880934  9.027128   4.176175   \n",
              "1      835  ependymoma  13.067436  7.998090   7.209076  9.723322   4.826126   \n",
              "2      836  ependymoma  13.068179  8.573674   8.647684  9.613002   4.396581   \n",
              "3      837  ependymoma  12.456040  9.098977   6.628784  8.517677   4.154847   \n",
              "4      838  ependymoma  12.699958  8.800721  11.556188  9.166309   4.165891   \n",
              "\n",
              "    1294_at   1316_at   1320_at  ...  AFFX-r2-Ec-bioD-3_at  \\\n",
              "0  7.224920  6.085942  6.835999  ...              9.979005   \n",
              "1  7.539381  6.250962  8.012549  ...             11.924749   \n",
              "2  7.813101  6.007746  7.178156  ...             12.154405   \n",
              "3  8.361843  6.596064  6.347285  ...             11.969072   \n",
              "4  7.923826  6.212754  6.866387  ...             11.411701   \n",
              "\n",
              "   AFFX-r2-Ec-bioD-5_at  AFFX-r2-P1-cre-3_at  AFFX-r2-P1-cre-5_at  \\\n",
              "0              9.926470            12.719785            12.777792   \n",
              "1             11.215930            13.605662            13.401342   \n",
              "2             11.532460            13.764593            13.477800   \n",
              "3             11.288801            13.600828            13.379029   \n",
              "4             11.169317            13.751442            13.803646   \n",
              "\n",
              "   AFFX-ThrX-3_at  AFFX-ThrX-5_at  AFFX-ThrX-M_at  AFFX-TrpnX-3_at  \\\n",
              "0        5.403657        4.870548        4.047380         3.721936   \n",
              "1        5.224555        4.895315        3.786437         3.564481   \n",
              "2        5.303565        5.052184        4.005343         3.595382   \n",
              "3        4.953429        4.708371        3.892318         3.759429   \n",
              "4        4.892677        4.773806        3.796856         3.577544   \n",
              "\n",
              "   AFFX-TrpnX-5_at  AFFX-TrpnX-M_at  \n",
              "0         4.516434         4.749940  \n",
              "1         4.430891         4.491416  \n",
              "2         4.563494         4.668827  \n",
              "3         4.748381         4.521275  \n",
              "4         4.504385         4.541450  \n",
              "\n",
              "[5 rows x 54677 columns]"
            ],
            "text/html": [
              "\n",
              "  <div id=\"df-42820514-a6e0-46c3-a9c0-3541f5970b50\">\n",
              "    <div class=\"colab-df-container\">\n",
              "      <div>\n",
              "<style scoped>\n",
              "    .dataframe tbody tr th:only-of-type {\n",
              "        vertical-align: middle;\n",
              "    }\n",
              "\n",
              "    .dataframe tbody tr th {\n",
              "        vertical-align: top;\n",
              "    }\n",
              "\n",
              "    .dataframe thead th {\n",
              "        text-align: right;\n",
              "    }\n",
              "</style>\n",
              "<table border=\"1\" class=\"dataframe\">\n",
              "  <thead>\n",
              "    <tr style=\"text-align: right;\">\n",
              "      <th></th>\n",
              "      <th>samples</th>\n",
              "      <th>type</th>\n",
              "      <th>1007_s_at</th>\n",
              "      <th>1053_at</th>\n",
              "      <th>117_at</th>\n",
              "      <th>121_at</th>\n",
              "      <th>1255_g_at</th>\n",
              "      <th>1294_at</th>\n",
              "      <th>1316_at</th>\n",
              "      <th>1320_at</th>\n",
              "      <th>...</th>\n",
              "      <th>AFFX-r2-Ec-bioD-3_at</th>\n",
              "      <th>AFFX-r2-Ec-bioD-5_at</th>\n",
              "      <th>AFFX-r2-P1-cre-3_at</th>\n",
              "      <th>AFFX-r2-P1-cre-5_at</th>\n",
              "      <th>AFFX-ThrX-3_at</th>\n",
              "      <th>AFFX-ThrX-5_at</th>\n",
              "      <th>AFFX-ThrX-M_at</th>\n",
              "      <th>AFFX-TrpnX-3_at</th>\n",
              "      <th>AFFX-TrpnX-5_at</th>\n",
              "      <th>AFFX-TrpnX-M_at</th>\n",
              "    </tr>\n",
              "  </thead>\n",
              "  <tbody>\n",
              "    <tr>\n",
              "      <th>0</th>\n",
              "      <td>834</td>\n",
              "      <td>ependymoma</td>\n",
              "      <td>12.498150</td>\n",
              "      <td>7.604868</td>\n",
              "      <td>6.880934</td>\n",
              "      <td>9.027128</td>\n",
              "      <td>4.176175</td>\n",
              "      <td>7.224920</td>\n",
              "      <td>6.085942</td>\n",
              "      <td>6.835999</td>\n",
              "      <td>...</td>\n",
              "      <td>9.979005</td>\n",
              "      <td>9.926470</td>\n",
              "      <td>12.719785</td>\n",
              "      <td>12.777792</td>\n",
              "      <td>5.403657</td>\n",
              "      <td>4.870548</td>\n",
              "      <td>4.047380</td>\n",
              "      <td>3.721936</td>\n",
              "      <td>4.516434</td>\n",
              "      <td>4.749940</td>\n",
              "    </tr>\n",
              "    <tr>\n",
              "      <th>1</th>\n",
              "      <td>835</td>\n",
              "      <td>ependymoma</td>\n",
              "      <td>13.067436</td>\n",
              "      <td>7.998090</td>\n",
              "      <td>7.209076</td>\n",
              "      <td>9.723322</td>\n",
              "      <td>4.826126</td>\n",
              "      <td>7.539381</td>\n",
              "      <td>6.250962</td>\n",
              "      <td>8.012549</td>\n",
              "      <td>...</td>\n",
              "      <td>11.924749</td>\n",
              "      <td>11.215930</td>\n",
              "      <td>13.605662</td>\n",
              "      <td>13.401342</td>\n",
              "      <td>5.224555</td>\n",
              "      <td>4.895315</td>\n",
              "      <td>3.786437</td>\n",
              "      <td>3.564481</td>\n",
              "      <td>4.430891</td>\n",
              "      <td>4.491416</td>\n",
              "    </tr>\n",
              "    <tr>\n",
              "      <th>2</th>\n",
              "      <td>836</td>\n",
              "      <td>ependymoma</td>\n",
              "      <td>13.068179</td>\n",
              "      <td>8.573674</td>\n",
              "      <td>8.647684</td>\n",
              "      <td>9.613002</td>\n",
              "      <td>4.396581</td>\n",
              "      <td>7.813101</td>\n",
              "      <td>6.007746</td>\n",
              "      <td>7.178156</td>\n",
              "      <td>...</td>\n",
              "      <td>12.154405</td>\n",
              "      <td>11.532460</td>\n",
              "      <td>13.764593</td>\n",
              "      <td>13.477800</td>\n",
              "      <td>5.303565</td>\n",
              "      <td>5.052184</td>\n",
              "      <td>4.005343</td>\n",
              "      <td>3.595382</td>\n",
              "      <td>4.563494</td>\n",
              "      <td>4.668827</td>\n",
              "    </tr>\n",
              "    <tr>\n",
              "      <th>3</th>\n",
              "      <td>837</td>\n",
              "      <td>ependymoma</td>\n",
              "      <td>12.456040</td>\n",
              "      <td>9.098977</td>\n",
              "      <td>6.628784</td>\n",
              "      <td>8.517677</td>\n",
              "      <td>4.154847</td>\n",
              "      <td>8.361843</td>\n",
              "      <td>6.596064</td>\n",
              "      <td>6.347285</td>\n",
              "      <td>...</td>\n",
              "      <td>11.969072</td>\n",
              "      <td>11.288801</td>\n",
              "      <td>13.600828</td>\n",
              "      <td>13.379029</td>\n",
              "      <td>4.953429</td>\n",
              "      <td>4.708371</td>\n",
              "      <td>3.892318</td>\n",
              "      <td>3.759429</td>\n",
              "      <td>4.748381</td>\n",
              "      <td>4.521275</td>\n",
              "    </tr>\n",
              "    <tr>\n",
              "      <th>4</th>\n",
              "      <td>838</td>\n",
              "      <td>ependymoma</td>\n",
              "      <td>12.699958</td>\n",
              "      <td>8.800721</td>\n",
              "      <td>11.556188</td>\n",
              "      <td>9.166309</td>\n",
              "      <td>4.165891</td>\n",
              "      <td>7.923826</td>\n",
              "      <td>6.212754</td>\n",
              "      <td>6.866387</td>\n",
              "      <td>...</td>\n",
              "      <td>11.411701</td>\n",
              "      <td>11.169317</td>\n",
              "      <td>13.751442</td>\n",
              "      <td>13.803646</td>\n",
              "      <td>4.892677</td>\n",
              "      <td>4.773806</td>\n",
              "      <td>3.796856</td>\n",
              "      <td>3.577544</td>\n",
              "      <td>4.504385</td>\n",
              "      <td>4.541450</td>\n",
              "    </tr>\n",
              "  </tbody>\n",
              "</table>\n",
              "<p>5 rows × 54677 columns</p>\n",
              "</div>\n",
              "      <button class=\"colab-df-convert\" onclick=\"convertToInteractive('df-42820514-a6e0-46c3-a9c0-3541f5970b50')\"\n",
              "              title=\"Convert this dataframe to an interactive table.\"\n",
              "              style=\"display:none;\">\n",
              "        \n",
              "  <svg xmlns=\"http://www.w3.org/2000/svg\" height=\"24px\"viewBox=\"0 0 24 24\"\n",
              "       width=\"24px\">\n",
              "    <path d=\"M0 0h24v24H0V0z\" fill=\"none\"/>\n",
              "    <path d=\"M18.56 5.44l.94 2.06.94-2.06 2.06-.94-2.06-.94-.94-2.06-.94 2.06-2.06.94zm-11 1L8.5 8.5l.94-2.06 2.06-.94-2.06-.94L8.5 2.5l-.94 2.06-2.06.94zm10 10l.94 2.06.94-2.06 2.06-.94-2.06-.94-.94-2.06-.94 2.06-2.06.94z\"/><path d=\"M17.41 7.96l-1.37-1.37c-.4-.4-.92-.59-1.43-.59-.52 0-1.04.2-1.43.59L10.3 9.45l-7.72 7.72c-.78.78-.78 2.05 0 2.83L4 21.41c.39.39.9.59 1.41.59.51 0 1.02-.2 1.41-.59l7.78-7.78 2.81-2.81c.8-.78.8-2.07 0-2.86zM5.41 20L4 18.59l7.72-7.72 1.47 1.35L5.41 20z\"/>\n",
              "  </svg>\n",
              "      </button>\n",
              "      \n",
              "  <style>\n",
              "    .colab-df-container {\n",
              "      display:flex;\n",
              "      flex-wrap:wrap;\n",
              "      gap: 12px;\n",
              "    }\n",
              "\n",
              "    .colab-df-convert {\n",
              "      background-color: #E8F0FE;\n",
              "      border: none;\n",
              "      border-radius: 50%;\n",
              "      cursor: pointer;\n",
              "      display: none;\n",
              "      fill: #1967D2;\n",
              "      height: 32px;\n",
              "      padding: 0 0 0 0;\n",
              "      width: 32px;\n",
              "    }\n",
              "\n",
              "    .colab-df-convert:hover {\n",
              "      background-color: #E2EBFA;\n",
              "      box-shadow: 0px 1px 2px rgba(60, 64, 67, 0.3), 0px 1px 3px 1px rgba(60, 64, 67, 0.15);\n",
              "      fill: #174EA6;\n",
              "    }\n",
              "\n",
              "    [theme=dark] .colab-df-convert {\n",
              "      background-color: #3B4455;\n",
              "      fill: #D2E3FC;\n",
              "    }\n",
              "\n",
              "    [theme=dark] .colab-df-convert:hover {\n",
              "      background-color: #434B5C;\n",
              "      box-shadow: 0px 1px 3px 1px rgba(0, 0, 0, 0.15);\n",
              "      filter: drop-shadow(0px 1px 2px rgba(0, 0, 0, 0.3));\n",
              "      fill: #FFFFFF;\n",
              "    }\n",
              "  </style>\n",
              "\n",
              "      <script>\n",
              "        const buttonEl =\n",
              "          document.querySelector('#df-42820514-a6e0-46c3-a9c0-3541f5970b50 button.colab-df-convert');\n",
              "        buttonEl.style.display =\n",
              "          google.colab.kernel.accessAllowed ? 'block' : 'none';\n",
              "\n",
              "        async function convertToInteractive(key) {\n",
              "          const element = document.querySelector('#df-42820514-a6e0-46c3-a9c0-3541f5970b50');\n",
              "          const dataTable =\n",
              "            await google.colab.kernel.invokeFunction('convertToInteractive',\n",
              "                                                     [key], {});\n",
              "          if (!dataTable) return;\n",
              "\n",
              "          const docLinkHtml = 'Like what you see? Visit the ' +\n",
              "            '<a target=\"_blank\" href=https://colab.research.google.com/notebooks/data_table.ipynb>data table notebook</a>'\n",
              "            + ' to learn more about interactive tables.';\n",
              "          element.innerHTML = '';\n",
              "          dataTable['output_type'] = 'display_data';\n",
              "          await google.colab.output.renderOutput(dataTable, element);\n",
              "          const docLink = document.createElement('div');\n",
              "          docLink.innerHTML = docLinkHtml;\n",
              "          element.appendChild(docLink);\n",
              "        }\n",
              "      </script>\n",
              "    </div>\n",
              "  </div>\n",
              "  "
            ]
          },
          "metadata": {},
          "execution_count": 8
        }
      ]
    },
    {
      "cell_type": "code",
      "source": [
        "labels = pd.read_csv('Brain_GSE50161.csv' )"
      ],
      "metadata": {
        "id": "zYuKHamR0pw0"
      },
      "execution_count": null,
      "outputs": []
    },
    {
      "cell_type": "code",
      "source": [
        "labels.head()"
      ],
      "metadata": {
        "colab": {
          "base_uri": "https://localhost:8080/",
          "height": 206
        },
        "id": "K0nGdHG30yw9",
        "outputId": "925078d9-cc85-4adb-fe09-66282626e1cf"
      },
      "execution_count": null,
      "outputs": [
        {
          "output_type": "execute_result",
          "data": {
            "text/plain": [
              "         type  1007_s_at\n",
              "0  ependymoma  12.498150\n",
              "1  ependymoma  13.067436\n",
              "2  ependymoma  13.068179\n",
              "3  ependymoma  12.456040\n",
              "4  ependymoma  12.699958"
            ],
            "text/html": [
              "\n",
              "  <div id=\"df-64d19e53-b8d1-4b65-b2bc-092722f84ece\">\n",
              "    <div class=\"colab-df-container\">\n",
              "      <div>\n",
              "<style scoped>\n",
              "    .dataframe tbody tr th:only-of-type {\n",
              "        vertical-align: middle;\n",
              "    }\n",
              "\n",
              "    .dataframe tbody tr th {\n",
              "        vertical-align: top;\n",
              "    }\n",
              "\n",
              "    .dataframe thead th {\n",
              "        text-align: right;\n",
              "    }\n",
              "</style>\n",
              "<table border=\"1\" class=\"dataframe\">\n",
              "  <thead>\n",
              "    <tr style=\"text-align: right;\">\n",
              "      <th></th>\n",
              "      <th>type</th>\n",
              "      <th>1007_s_at</th>\n",
              "    </tr>\n",
              "  </thead>\n",
              "  <tbody>\n",
              "    <tr>\n",
              "      <th>0</th>\n",
              "      <td>ependymoma</td>\n",
              "      <td>12.498150</td>\n",
              "    </tr>\n",
              "    <tr>\n",
              "      <th>1</th>\n",
              "      <td>ependymoma</td>\n",
              "      <td>13.067436</td>\n",
              "    </tr>\n",
              "    <tr>\n",
              "      <th>2</th>\n",
              "      <td>ependymoma</td>\n",
              "      <td>13.068179</td>\n",
              "    </tr>\n",
              "    <tr>\n",
              "      <th>3</th>\n",
              "      <td>ependymoma</td>\n",
              "      <td>12.456040</td>\n",
              "    </tr>\n",
              "    <tr>\n",
              "      <th>4</th>\n",
              "      <td>ependymoma</td>\n",
              "      <td>12.699958</td>\n",
              "    </tr>\n",
              "  </tbody>\n",
              "</table>\n",
              "</div>\n",
              "      <button class=\"colab-df-convert\" onclick=\"convertToInteractive('df-64d19e53-b8d1-4b65-b2bc-092722f84ece')\"\n",
              "              title=\"Convert this dataframe to an interactive table.\"\n",
              "              style=\"display:none;\">\n",
              "        \n",
              "  <svg xmlns=\"http://www.w3.org/2000/svg\" height=\"24px\"viewBox=\"0 0 24 24\"\n",
              "       width=\"24px\">\n",
              "    <path d=\"M0 0h24v24H0V0z\" fill=\"none\"/>\n",
              "    <path d=\"M18.56 5.44l.94 2.06.94-2.06 2.06-.94-2.06-.94-.94-2.06-.94 2.06-2.06.94zm-11 1L8.5 8.5l.94-2.06 2.06-.94-2.06-.94L8.5 2.5l-.94 2.06-2.06.94zm10 10l.94 2.06.94-2.06 2.06-.94-2.06-.94-.94-2.06-.94 2.06-2.06.94z\"/><path d=\"M17.41 7.96l-1.37-1.37c-.4-.4-.92-.59-1.43-.59-.52 0-1.04.2-1.43.59L10.3 9.45l-7.72 7.72c-.78.78-.78 2.05 0 2.83L4 21.41c.39.39.9.59 1.41.59.51 0 1.02-.2 1.41-.59l7.78-7.78 2.81-2.81c.8-.78.8-2.07 0-2.86zM5.41 20L4 18.59l7.72-7.72 1.47 1.35L5.41 20z\"/>\n",
              "  </svg>\n",
              "      </button>\n",
              "      \n",
              "  <style>\n",
              "    .colab-df-container {\n",
              "      display:flex;\n",
              "      flex-wrap:wrap;\n",
              "      gap: 12px;\n",
              "    }\n",
              "\n",
              "    .colab-df-convert {\n",
              "      background-color: #E8F0FE;\n",
              "      border: none;\n",
              "      border-radius: 50%;\n",
              "      cursor: pointer;\n",
              "      display: none;\n",
              "      fill: #1967D2;\n",
              "      height: 32px;\n",
              "      padding: 0 0 0 0;\n",
              "      width: 32px;\n",
              "    }\n",
              "\n",
              "    .colab-df-convert:hover {\n",
              "      background-color: #E2EBFA;\n",
              "      box-shadow: 0px 1px 2px rgba(60, 64, 67, 0.3), 0px 1px 3px 1px rgba(60, 64, 67, 0.15);\n",
              "      fill: #174EA6;\n",
              "    }\n",
              "\n",
              "    [theme=dark] .colab-df-convert {\n",
              "      background-color: #3B4455;\n",
              "      fill: #D2E3FC;\n",
              "    }\n",
              "\n",
              "    [theme=dark] .colab-df-convert:hover {\n",
              "      background-color: #434B5C;\n",
              "      box-shadow: 0px 1px 3px 1px rgba(0, 0, 0, 0.15);\n",
              "      filter: drop-shadow(0px 1px 2px rgba(0, 0, 0, 0.3));\n",
              "      fill: #FFFFFF;\n",
              "    }\n",
              "  </style>\n",
              "\n",
              "      <script>\n",
              "        const buttonEl =\n",
              "          document.querySelector('#df-64d19e53-b8d1-4b65-b2bc-092722f84ece button.colab-df-convert');\n",
              "        buttonEl.style.display =\n",
              "          google.colab.kernel.accessAllowed ? 'block' : 'none';\n",
              "\n",
              "        async function convertToInteractive(key) {\n",
              "          const element = document.querySelector('#df-64d19e53-b8d1-4b65-b2bc-092722f84ece');\n",
              "          const dataTable =\n",
              "            await google.colab.kernel.invokeFunction('convertToInteractive',\n",
              "                                                     [key], {});\n",
              "          if (!dataTable) return;\n",
              "\n",
              "          const docLinkHtml = 'Like what you see? Visit the ' +\n",
              "            '<a target=\"_blank\" href=https://colab.research.google.com/notebooks/data_table.ipynb>data table notebook</a>'\n",
              "            + ' to learn more about interactive tables.';\n",
              "          element.innerHTML = '';\n",
              "          dataTable['output_type'] = 'display_data';\n",
              "          await google.colab.output.renderOutput(dataTable, element);\n",
              "          const docLink = document.createElement('div');\n",
              "          docLink.innerHTML = docLinkHtml;\n",
              "          element.appendChild(docLink);\n",
              "        }\n",
              "      </script>\n",
              "    </div>\n",
              "  </div>\n",
              "  "
            ]
          },
          "metadata": {},
          "execution_count": 10
        }
      ]
    },
    {
      "cell_type": "markdown",
      "source": [
        "# ***Load using .iloc[rows,columns] the targeted columns and rows, and convert it to vectors using .values***"
      ],
      "metadata": {
        "id": "HOOcynXLDA7r"
      }
    },
    {
      "cell_type": "code",
      "source": [
        "x = data.iloc[:,2:]"
      ],
      "metadata": {
        "id": "ngkp2QRp3YBJ"
      },
      "execution_count": null,
      "outputs": []
    },
    {
      "cell_type": "code",
      "source": [
        "print(x)"
      ],
      "metadata": {
        "colab": {
          "base_uri": "https://localhost:8080/"
        },
        "id": "2ixPDQW14fDP",
        "outputId": "5563bd9f-b021-4575-80aa-0252d94c1818"
      },
      "execution_count": null,
      "outputs": [
        {
          "output_type": "stream",
          "name": "stdout",
          "text": [
            "     1007_s_at   1053_at     117_at    121_at  1255_g_at   1294_at   1316_at  \\\n",
            "0    12.498150  7.604868   6.880934  9.027128   4.176175  7.224920  6.085942   \n",
            "1    13.067436  7.998090   7.209076  9.723322   4.826126  7.539381  6.250962   \n",
            "2    13.068179  8.573674   8.647684  9.613002   4.396581  7.813101  6.007746   \n",
            "3    12.456040  9.098977   6.628784  8.517677   4.154847  8.361843  6.596064   \n",
            "4    12.699958  8.800721  11.556188  9.166309   4.165891  7.923826  6.212754   \n",
            "..         ...       ...        ...       ...        ...       ...       ...   \n",
            "125  12.658228  8.843270   7.672655  9.125912   5.495477  8.603892  7.747514   \n",
            "126  12.812823  8.510550   8.729699  9.104402   3.967228  7.719089  7.092496   \n",
            "127  12.706991  8.795721   7.772359  8.327273   6.329383  8.550471  6.613332   \n",
            "128  12.684593  8.293938   7.228186  8.494428   6.049414  8.214729  7.287758   \n",
            "129  12.397722  8.843524   8.825100  8.551541   5.002072  8.547894  6.920827   \n",
            "\n",
            "      1320_at  1405_i_at   1431_at  ...  AFFX-r2-Ec-bioD-3_at  \\\n",
            "0    6.835999   5.898355  5.513410  ...              9.979005   \n",
            "1    8.012549   5.453147  6.173106  ...             11.924749   \n",
            "2    7.178156   8.400266  6.323471  ...             12.154405   \n",
            "3    6.347285   4.900380  6.008684  ...             11.969072   \n",
            "4    6.866387   5.405628  5.279579  ...             11.411701   \n",
            "..        ...        ...       ...  ...                   ...   \n",
            "125  5.828978   6.926720  4.967369  ...             13.170441   \n",
            "126  6.504812   6.157163  5.082896  ...             13.040267   \n",
            "127  6.308945   7.494852  4.919414  ...             12.825383   \n",
            "128  5.732710   6.296021  5.140635  ...             13.116581   \n",
            "129  5.738159   6.383309  5.229208  ...             13.117180   \n",
            "\n",
            "     AFFX-r2-Ec-bioD-5_at  AFFX-r2-P1-cre-3_at  AFFX-r2-P1-cre-5_at  \\\n",
            "0                9.926470            12.719785            12.777792   \n",
            "1               11.215930            13.605662            13.401342   \n",
            "2               11.532460            13.764593            13.477800   \n",
            "3               11.288801            13.600828            13.379029   \n",
            "4               11.169317            13.751442            13.803646   \n",
            "..                    ...                  ...                  ...   \n",
            "125             12.676080            14.124837            13.996436   \n",
            "126             12.403316            13.978009            13.812916   \n",
            "127             12.439265            14.328373            14.008693   \n",
            "128             12.657967            14.390346            14.194904   \n",
            "129             12.699932            14.286779            14.088950   \n",
            "\n",
            "     AFFX-ThrX-3_at  AFFX-ThrX-5_at  AFFX-ThrX-M_at  AFFX-TrpnX-3_at  \\\n",
            "0          5.403657        4.870548        4.047380         3.721936   \n",
            "1          5.224555        4.895315        3.786437         3.564481   \n",
            "2          5.303565        5.052184        4.005343         3.595382   \n",
            "3          4.953429        4.708371        3.892318         3.759429   \n",
            "4          4.892677        4.773806        3.796856         3.577544   \n",
            "..              ...             ...             ...              ...   \n",
            "125        4.913579        4.399176        3.878855         3.680103   \n",
            "126        5.189600        4.912618        3.764800         3.664920   \n",
            "127        4.931460        4.712895        3.913637         3.700964   \n",
            "128        4.871092        4.739400        3.782980         3.920363   \n",
            "129        4.932377        4.700205        3.952850         3.678112   \n",
            "\n",
            "     AFFX-TrpnX-5_at  AFFX-TrpnX-M_at  \n",
            "0           4.516434         4.749940  \n",
            "1           4.430891         4.491416  \n",
            "2           4.563494         4.668827  \n",
            "3           4.748381         4.521275  \n",
            "4           4.504385         4.541450  \n",
            "..               ...              ...  \n",
            "125         4.726784         4.564637  \n",
            "126         4.628355         4.761351  \n",
            "127         4.764693         4.834952  \n",
            "128         4.665584         4.613326  \n",
            "129         5.018501         4.704779  \n",
            "\n",
            "[130 rows x 54675 columns]\n"
          ]
        }
      ]
    },
    {
      "cell_type": "code",
      "source": [
        "y = labels.iloc[:,0]"
      ],
      "metadata": {
        "id": "iqilKVCp40xf"
      },
      "execution_count": null,
      "outputs": []
    },
    {
      "cell_type": "code",
      "source": [
        "print(y)"
      ],
      "metadata": {
        "colab": {
          "base_uri": "https://localhost:8080/"
        },
        "id": "oqhVjE0h9E9H",
        "outputId": "8873ec50-3d6a-4c80-ab94-eb5a36d36615"
      },
      "execution_count": null,
      "outputs": [
        {
          "output_type": "stream",
          "name": "stdout",
          "text": [
            "0                 ependymoma\n",
            "1                 ependymoma\n",
            "2                 ependymoma\n",
            "3                 ependymoma\n",
            "4                 ependymoma\n",
            "               ...          \n",
            "125    pilocytic_astrocytoma\n",
            "126    pilocytic_astrocytoma\n",
            "127    pilocytic_astrocytoma\n",
            "128    pilocytic_astrocytoma\n",
            "129    pilocytic_astrocytoma\n",
            "Name: type, Length: 130, dtype: object\n"
          ]
        }
      ]
    },
    {
      "cell_type": "markdown",
      "source": [
        "# ***Data processing***"
      ],
      "metadata": {
        "id": "ll9N-DhFDYPg"
      }
    },
    {
      "cell_type": "markdown",
      "source": [
        "# **Normalization **"
      ],
      "metadata": {
        "id": "nzQ4UmdhDcoe"
      }
    },
    {
      "cell_type": "code",
      "source": [
        "from sklearn.preprocessing import StandardScaler\n",
        "\n",
        "# Initialize the scaler object\n",
        "scaler = StandardScaler()\n",
        "\n",
        "# Transform the data\n",
        "x = scaler.fit_transform(x)"
      ],
      "metadata": {
        "id": "RMo_952A7M9m"
      },
      "execution_count": null,
      "outputs": []
    },
    {
      "cell_type": "markdown",
      "source": [
        "# ***Construire l'ensemble de teste et l'ensemble d'apprentissage***"
      ],
      "metadata": {
        "id": "F4rgJYfuDiEr"
      }
    },
    {
      "cell_type": "code",
      "source": [
        "from sklearn.model_selection import train_test_split\n",
        "\n",
        "# Split the data into training and testing sets\n",
        "X_train, X_test, y_train, y_test = train_test_split(x, y, test_size=0.2, random_state=42,shuffle=True)"
      ],
      "metadata": {
        "id": "MVSUC2M79yIz"
      },
      "execution_count": null,
      "outputs": []
    },
    {
      "cell_type": "markdown",
      "source": [
        "# ***Training the model***"
      ],
      "metadata": {
        "id": "nOviiJ9PDrNC"
      }
    },
    {
      "cell_type": "code",
      "source": [
        "from sklearn.ensemble import BaggingClassifier\n",
        "model = BaggingClassifier()\n",
        "model.fit(X_train,y_train)\n"
      ],
      "metadata": {
        "colab": {
          "base_uri": "https://localhost:8080/"
        },
        "id": "oJyU9O-2-7tK",
        "outputId": "8257bc08-e232-4313-da55-bb1a1ef88615"
      },
      "execution_count": null,
      "outputs": [
        {
          "output_type": "execute_result",
          "data": {
            "text/plain": [
              "BaggingClassifier()"
            ]
          },
          "metadata": {},
          "execution_count": 122
        }
      ]
    },
    {
      "cell_type": "code",
      "source": [
        "print(X_test.shape)"
      ],
      "metadata": {
        "colab": {
          "base_uri": "https://localhost:8080/"
        },
        "id": "IjOvMPIXHC0R",
        "outputId": "cbf63929-7ed9-47af-a072-9504bad5aca5"
      },
      "execution_count": null,
      "outputs": [
        {
          "output_type": "stream",
          "name": "stdout",
          "text": [
            "(26, 54675)\n"
          ]
        }
      ]
    },
    {
      "cell_type": "markdown",
      "source": [
        "# ***Evaluation du modèle en utilisant la partie Teste***"
      ],
      "metadata": {
        "id": "W8yhXxSEMHr0"
      }
    },
    {
      "cell_type": "code",
      "source": [
        "from sklearn.metrics import *\n",
        "y_pred = model.predict(X_test)"
      ],
      "metadata": {
        "id": "j-IlDgVRCDOE"
      },
      "execution_count": null,
      "outputs": []
    },
    {
      "cell_type": "code",
      "source": [
        "print(y_pred.shape)"
      ],
      "metadata": {
        "colab": {
          "base_uri": "https://localhost:8080/"
        },
        "id": "tOjJYPR5HZII",
        "outputId": "97134adc-4f84-4de1-fe24-1e095a26ac4c"
      },
      "execution_count": null,
      "outputs": [
        {
          "output_type": "stream",
          "name": "stdout",
          "text": [
            "(26,)\n"
          ]
        }
      ]
    },
    {
      "cell_type": "code",
      "source": [
        "print(y_pred)"
      ],
      "metadata": {
        "colab": {
          "base_uri": "https://localhost:8080/"
        },
        "id": "kCiXOUQsGueg",
        "outputId": "fcf5d8fd-b6e0-43ec-930c-7db20bd905a0"
      },
      "execution_count": null,
      "outputs": [
        {
          "output_type": "stream",
          "name": "stdout",
          "text": [
            "['glioblastoma' 'ependymoma' 'ependymoma' 'ependymoma'\n",
            " 'pilocytic_astrocytoma' 'glioblastoma' 'glioblastoma' 'normal'\n",
            " 'medulloblastoma' 'ependymoma' 'medulloblastoma' 'ependymoma'\n",
            " 'glioblastoma' 'ependymoma' 'medulloblastoma' 'medulloblastoma'\n",
            " 'glioblastoma' 'medulloblastoma' 'medulloblastoma' 'medulloblastoma'\n",
            " 'ependymoma' 'ependymoma' 'pilocytic_astrocytoma' 'ependymoma'\n",
            " 'glioblastoma' 'ependymoma']\n"
          ]
        }
      ]
    },
    {
      "cell_type": "code",
      "source": [
        "print(y_test)"
      ],
      "metadata": {
        "id": "k6pzf6ffH5WQ"
      },
      "execution_count": null,
      "outputs": []
    },
    {
      "cell_type": "code",
      "source": [
        "acc = accuracy_score(y_test,y_pred)"
      ],
      "metadata": {
        "id": "REF9uw5eIEI4"
      },
      "execution_count": null,
      "outputs": []
    },
    {
      "cell_type": "code",
      "source": [
        "print(acc)"
      ],
      "metadata": {
        "colab": {
          "base_uri": "https://localhost:8080/"
        },
        "id": "FhHucWuNJnHW",
        "outputId": "9adb55e8-8d43-4594-fabe-87016ba3daab"
      },
      "execution_count": null,
      "outputs": [
        {
          "output_type": "stream",
          "name": "stdout",
          "text": [
            "0.9230769230769231\n"
          ]
        }
      ]
    },
    {
      "cell_type": "code",
      "source": [
        "precision = precision_score(y_test,y_pred,average='macro')"
      ],
      "metadata": {
        "id": "aNbV6UtNJuZ9"
      },
      "execution_count": null,
      "outputs": []
    },
    {
      "cell_type": "code",
      "source": [
        "print(precision)"
      ],
      "metadata": {
        "colab": {
          "base_uri": "https://localhost:8080/"
        },
        "id": "A_nzEbpfLEUs",
        "outputId": "12a6e3fa-354c-414e-e77e-5a42f6f1d310"
      },
      "execution_count": null,
      "outputs": [
        {
          "output_type": "stream",
          "name": "stdout",
          "text": [
            "0.775\n"
          ]
        }
      ]
    },
    {
      "cell_type": "markdown",
      "source": [
        "# **Deploy**"
      ],
      "metadata": {
        "id": "i5-s5DRnMWk7"
      }
    },
    {
      "cell_type": "code",
      "source": [
        "model = RandomForestClassifier()\n",
        "model.fit(x,y)"
      ],
      "metadata": {
        "colab": {
          "base_uri": "https://localhost:8080/"
        },
        "id": "criJrClMOM05",
        "outputId": "dd45330b-ef5c-4828-c1db-2bf580f4ae66"
      },
      "execution_count": null,
      "outputs": [
        {
          "output_type": "execute_result",
          "data": {
            "text/plain": [
              "RandomForestClassifier()"
            ]
          },
          "metadata": {},
          "execution_count": 125
        }
      ]
    },
    {
      "cell_type": "markdown",
      "source": [
        "Convertir vers un fichier (Serialisation)"
      ],
      "metadata": {
        "id": "2HHlrMTLPYF_"
      }
    },
    {
      "cell_type": "code",
      "source": [
        "import pickle\n",
        "pickle.dump(model, open('randommodel', 'wb'))"
      ],
      "metadata": {
        "id": "uQljqlglOduw"
      },
      "execution_count": null,
      "outputs": []
    },
    {
      "cell_type": "markdown",
      "source": [
        "Convertir le fichier vers un model ( deserialisation)"
      ],
      "metadata": {
        "id": "n2A1y1uPPcw_"
      }
    },
    {
      "cell_type": "code",
      "source": [
        "model_loaded = pickle.load(open('randommodel','rb'))"
      ],
      "metadata": {
        "id": "7rQeYQ5kPgtY"
      },
      "execution_count": null,
      "outputs": []
    },
    {
      "cell_type": "code",
      "source": [
        "print(model_loaded.predict(x))"
      ],
      "metadata": {
        "colab": {
          "base_uri": "https://localhost:8080/"
        },
        "id": "3ZD1D5D4RKmV",
        "outputId": "40b781e8-3911-49e8-9688-82d184db9488"
      },
      "execution_count": null,
      "outputs": [
        {
          "output_type": "stream",
          "name": "stdout",
          "text": [
            "['ependymoma' 'ependymoma' 'ependymoma' 'ependymoma' 'ependymoma'\n",
            " 'ependymoma' 'ependymoma' 'ependymoma' 'ependymoma' 'ependymoma'\n",
            " 'ependymoma' 'ependymoma' 'ependymoma' 'ependymoma' 'ependymoma'\n",
            " 'ependymoma' 'ependymoma' 'ependymoma' 'ependymoma' 'ependymoma'\n",
            " 'ependymoma' 'ependymoma' 'ependymoma' 'ependymoma' 'ependymoma'\n",
            " 'ependymoma' 'ependymoma' 'ependymoma' 'ependymoma' 'ependymoma'\n",
            " 'ependymoma' 'ependymoma' 'ependymoma' 'ependymoma' 'ependymoma'\n",
            " 'ependymoma' 'ependymoma' 'ependymoma' 'ependymoma' 'ependymoma'\n",
            " 'ependymoma' 'ependymoma' 'ependymoma' 'ependymoma' 'ependymoma'\n",
            " 'ependymoma' 'glioblastoma' 'glioblastoma' 'glioblastoma' 'glioblastoma'\n",
            " 'glioblastoma' 'glioblastoma' 'glioblastoma' 'glioblastoma'\n",
            " 'glioblastoma' 'glioblastoma' 'glioblastoma' 'glioblastoma'\n",
            " 'glioblastoma' 'glioblastoma' 'glioblastoma' 'glioblastoma'\n",
            " 'glioblastoma' 'glioblastoma' 'glioblastoma' 'glioblastoma'\n",
            " 'glioblastoma' 'glioblastoma' 'glioblastoma' 'glioblastoma'\n",
            " 'glioblastoma' 'glioblastoma' 'glioblastoma' 'glioblastoma'\n",
            " 'glioblastoma' 'glioblastoma' 'glioblastoma' 'glioblastoma'\n",
            " 'glioblastoma' 'glioblastoma' 'medulloblastoma' 'medulloblastoma'\n",
            " 'medulloblastoma' 'medulloblastoma' 'medulloblastoma' 'medulloblastoma'\n",
            " 'medulloblastoma' 'medulloblastoma' 'medulloblastoma' 'medulloblastoma'\n",
            " 'medulloblastoma' 'medulloblastoma' 'medulloblastoma' 'medulloblastoma'\n",
            " 'medulloblastoma' 'medulloblastoma' 'medulloblastoma' 'medulloblastoma'\n",
            " 'medulloblastoma' 'medulloblastoma' 'medulloblastoma' 'medulloblastoma'\n",
            " 'normal' 'normal' 'normal' 'normal' 'normal' 'normal' 'normal' 'normal'\n",
            " 'normal' 'normal' 'normal' 'normal' 'normal' 'pilocytic_astrocytoma'\n",
            " 'pilocytic_astrocytoma' 'pilocytic_astrocytoma' 'pilocytic_astrocytoma'\n",
            " 'pilocytic_astrocytoma' 'pilocytic_astrocytoma' 'pilocytic_astrocytoma'\n",
            " 'pilocytic_astrocytoma' 'pilocytic_astrocytoma' 'pilocytic_astrocytoma'\n",
            " 'pilocytic_astrocytoma' 'pilocytic_astrocytoma' 'pilocytic_astrocytoma'\n",
            " 'pilocytic_astrocytoma' 'pilocytic_astrocytoma']\n"
          ]
        }
      ]
    },
    {
      "cell_type": "markdown",
      "source": [
        "# ***Utiliser une technique de validation croisé***"
      ],
      "metadata": {
        "id": "RvhZUhBRYTol"
      }
    },
    {
      "cell_type": "code",
      "source": [
        "model = BaggingClassifier()\n",
        "from sklearn.model_selection import cross_validate\n",
        "scores = cross_validate(model,x, y, cv=5,scoring=['accuracy','precision_micro'])\n",
        "print(scores)"
      ],
      "metadata": {
        "colab": {
          "base_uri": "https://localhost:8080/"
        },
        "id": "ZHZX7O0KYfb1",
        "outputId": "90714106-522a-47c8-df5f-8e68be0ead4f"
      },
      "execution_count": null,
      "outputs": [
        {
          "output_type": "stream",
          "name": "stdout",
          "text": [
            "{'fit_time': array([16.17468405, 13.96044493, 10.47495484,  9.46117377,  9.51110339]), 'score_time': array([0.24296188, 0.07673764, 0.07575345, 0.10226178, 0.07712221]), 'test_accuracy': array([0.96153846, 0.84615385, 0.92307692, 0.88461538, 0.92307692]), 'test_precision_micro': array([0.96153846, 0.84615385, 0.92307692, 0.88461538, 0.92307692])}\n"
          ]
        }
      ]
    },
    {
      "cell_type": "code",
      "source": [
        "SCORERS.keys()"
      ],
      "metadata": {
        "colab": {
          "base_uri": "https://localhost:8080/"
        },
        "id": "zV6kOIivaBqd",
        "outputId": "5c1c901f-47df-416b-de3b-d870a8e236a6"
      },
      "execution_count": null,
      "outputs": [
        {
          "output_type": "execute_result",
          "data": {
            "text/plain": [
              "dict_keys(['explained_variance', 'r2', 'max_error', 'neg_median_absolute_error', 'neg_mean_absolute_error', 'neg_mean_absolute_percentage_error', 'neg_mean_squared_error', 'neg_mean_squared_log_error', 'neg_root_mean_squared_error', 'neg_mean_poisson_deviance', 'neg_mean_gamma_deviance', 'accuracy', 'top_k_accuracy', 'roc_auc', 'roc_auc_ovr', 'roc_auc_ovo', 'roc_auc_ovr_weighted', 'roc_auc_ovo_weighted', 'balanced_accuracy', 'average_precision', 'neg_log_loss', 'neg_brier_score', 'adjusted_rand_score', 'rand_score', 'homogeneity_score', 'completeness_score', 'v_measure_score', 'mutual_info_score', 'adjusted_mutual_info_score', 'normalized_mutual_info_score', 'fowlkes_mallows_score', 'precision', 'precision_macro', 'precision_micro', 'precision_samples', 'precision_weighted', 'recall', 'recall_macro', 'recall_micro', 'recall_samples', 'recall_weighted', 'f1', 'f1_macro', 'f1_micro', 'f1_samples', 'f1_weighted', 'jaccard', 'jaccard_macro', 'jaccard_micro', 'jaccard_samples', 'jaccard_weighted'])"
            ]
          },
          "metadata": {},
          "execution_count": 32
        }
      ]
    }
  ]
}